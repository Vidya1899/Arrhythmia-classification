{
 "cells": [
  {
   "cell_type": "code",
   "execution_count": 15,
   "metadata": {},
   "outputs": [],
   "source": [
    "import pandas as pd\n",
    "import numpy as np\n",
    "import seaborn as sns\n",
    "import matplotlib.pyplot as plt\n",
    "from sklearn.linear_model import LinearRegression\n",
    "from sklearn.linear_model import LogisticRegression\n",
    "from sklearn import datasets, linear_model\n",
    "from sklearn.metrics import r2_score\n",
    "import statsmodels.api as sm\n",
    "from sklearn import metrics\n",
    "from sklearn.preprocessing import PolynomialFeatures\n",
    "from sklearn.preprocessing import StandardScaler\n",
    "import sklearn\n",
    "from imblearn.over_sampling import SMOTE\n",
    "from imblearn.over_sampling import RandomOverSampler"
   ]
  },
  {
   "cell_type": "code",
   "execution_count": 16,
   "metadata": {},
   "outputs": [
    {
     "data": {
      "text/html": [
       "<div>\n",
       "<style scoped>\n",
       "    .dataframe tbody tr th:only-of-type {\n",
       "        vertical-align: middle;\n",
       "    }\n",
       "\n",
       "    .dataframe tbody tr th {\n",
       "        vertical-align: top;\n",
       "    }\n",
       "\n",
       "    .dataframe thead th {\n",
       "        text-align: right;\n",
       "    }\n",
       "</style>\n",
       "<table border=\"1\" class=\"dataframe\">\n",
       "  <thead>\n",
       "    <tr style=\"text-align: right;\">\n",
       "      <th></th>\n",
       "      <th>age</th>\n",
       "      <th>sex</th>\n",
       "      <th>height</th>\n",
       "      <th>weight</th>\n",
       "      <th>qrs_duration</th>\n",
       "      <th>p-r_interval</th>\n",
       "      <th>q-t_interval</th>\n",
       "      <th>t_interval</th>\n",
       "      <th>p_interval</th>\n",
       "      <th>qrs</th>\n",
       "      <th>...</th>\n",
       "      <th>KU</th>\n",
       "      <th>KV</th>\n",
       "      <th>KY</th>\n",
       "      <th>KZ</th>\n",
       "      <th>LA</th>\n",
       "      <th>LD</th>\n",
       "      <th>LE</th>\n",
       "      <th>LF</th>\n",
       "      <th>LG</th>\n",
       "      <th>diagnosis</th>\n",
       "    </tr>\n",
       "  </thead>\n",
       "  <tbody>\n",
       "    <tr>\n",
       "      <th>count</th>\n",
       "      <td>444.000000</td>\n",
       "      <td>444.000000</td>\n",
       "      <td>444.000000</td>\n",
       "      <td>444.000000</td>\n",
       "      <td>444.000000</td>\n",
       "      <td>444.000000</td>\n",
       "      <td>444.000000</td>\n",
       "      <td>444.000000</td>\n",
       "      <td>444.000000</td>\n",
       "      <td>444.000000</td>\n",
       "      <td>...</td>\n",
       "      <td>444.000000</td>\n",
       "      <td>444.000000</td>\n",
       "      <td>444.000000</td>\n",
       "      <td>444.000000</td>\n",
       "      <td>444.000000</td>\n",
       "      <td>444.000000</td>\n",
       "      <td>444.000000</td>\n",
       "      <td>444.000000</td>\n",
       "      <td>444.000000</td>\n",
       "      <td>444.000000</td>\n",
       "    </tr>\n",
       "    <tr>\n",
       "      <th>mean</th>\n",
       "      <td>46.277027</td>\n",
       "      <td>0.551802</td>\n",
       "      <td>166.191441</td>\n",
       "      <td>68.027027</td>\n",
       "      <td>89.022523</td>\n",
       "      <td>154.765766</td>\n",
       "      <td>366.943694</td>\n",
       "      <td>169.896396</td>\n",
       "      <td>89.716216</td>\n",
       "      <td>33.788288</td>\n",
       "      <td>...</td>\n",
       "      <td>33.071847</td>\n",
       "      <td>-0.298423</td>\n",
       "      <td>-0.276126</td>\n",
       "      <td>9.038514</td>\n",
       "      <td>-1.463063</td>\n",
       "      <td>0.515541</td>\n",
       "      <td>1.250225</td>\n",
       "      <td>19.301126</td>\n",
       "      <td>29.678378</td>\n",
       "      <td>3.880631</td>\n",
       "    </tr>\n",
       "    <tr>\n",
       "      <th>std</th>\n",
       "      <td>16.507535</td>\n",
       "      <td>0.497870</td>\n",
       "      <td>37.485610</td>\n",
       "      <td>16.655294</td>\n",
       "      <td>15.459535</td>\n",
       "      <td>45.096176</td>\n",
       "      <td>33.200859</td>\n",
       "      <td>35.686092</td>\n",
       "      <td>25.901805</td>\n",
       "      <td>45.729949</td>\n",
       "      <td>...</td>\n",
       "      <td>24.412159</td>\n",
       "      <td>0.604290</td>\n",
       "      <td>0.531081</td>\n",
       "      <td>3.439845</td>\n",
       "      <td>2.015255</td>\n",
       "      <td>0.348174</td>\n",
       "      <td>1.417060</td>\n",
       "      <td>13.487314</td>\n",
       "      <td>18.517302</td>\n",
       "      <td>4.402614</td>\n",
       "    </tr>\n",
       "    <tr>\n",
       "      <th>min</th>\n",
       "      <td>0.000000</td>\n",
       "      <td>0.000000</td>\n",
       "      <td>105.000000</td>\n",
       "      <td>6.000000</td>\n",
       "      <td>55.000000</td>\n",
       "      <td>0.000000</td>\n",
       "      <td>232.000000</td>\n",
       "      <td>108.000000</td>\n",
       "      <td>0.000000</td>\n",
       "      <td>-172.000000</td>\n",
       "      <td>...</td>\n",
       "      <td>-63.600000</td>\n",
       "      <td>-5.600000</td>\n",
       "      <td>-4.100000</td>\n",
       "      <td>0.000000</td>\n",
       "      <td>-28.600000</td>\n",
       "      <td>-0.800000</td>\n",
       "      <td>-6.000000</td>\n",
       "      <td>-44.200000</td>\n",
       "      <td>-38.600000</td>\n",
       "      <td>1.000000</td>\n",
       "    </tr>\n",
       "    <tr>\n",
       "      <th>25%</th>\n",
       "      <td>36.000000</td>\n",
       "      <td>0.000000</td>\n",
       "      <td>160.000000</td>\n",
       "      <td>59.000000</td>\n",
       "      <td>80.000000</td>\n",
       "      <td>141.000000</td>\n",
       "      <td>350.000000</td>\n",
       "      <td>148.000000</td>\n",
       "      <td>79.000000</td>\n",
       "      <td>3.750000</td>\n",
       "      <td>...</td>\n",
       "      <td>16.100000</td>\n",
       "      <td>-0.500000</td>\n",
       "      <td>-0.500000</td>\n",
       "      <td>6.600000</td>\n",
       "      <td>-2.100000</td>\n",
       "      <td>0.400000</td>\n",
       "      <td>0.600000</td>\n",
       "      <td>11.500000</td>\n",
       "      <td>17.775000</td>\n",
       "      <td>1.000000</td>\n",
       "    </tr>\n",
       "    <tr>\n",
       "      <th>50%</th>\n",
       "      <td>46.000000</td>\n",
       "      <td>1.000000</td>\n",
       "      <td>164.000000</td>\n",
       "      <td>68.000000</td>\n",
       "      <td>87.000000</td>\n",
       "      <td>157.000000</td>\n",
       "      <td>367.000000</td>\n",
       "      <td>162.000000</td>\n",
       "      <td>90.000000</td>\n",
       "      <td>40.000000</td>\n",
       "      <td>...</td>\n",
       "      <td>30.600000</td>\n",
       "      <td>-0.200000</td>\n",
       "      <td>0.000000</td>\n",
       "      <td>8.800000</td>\n",
       "      <td>-1.100000</td>\n",
       "      <td>0.500000</td>\n",
       "      <td>1.400000</td>\n",
       "      <td>18.100000</td>\n",
       "      <td>28.100000</td>\n",
       "      <td>1.000000</td>\n",
       "    </tr>\n",
       "    <tr>\n",
       "      <th>75%</th>\n",
       "      <td>58.000000</td>\n",
       "      <td>1.000000</td>\n",
       "      <td>170.000000</td>\n",
       "      <td>78.000000</td>\n",
       "      <td>94.000000</td>\n",
       "      <td>174.000000</td>\n",
       "      <td>383.000000</td>\n",
       "      <td>178.250000</td>\n",
       "      <td>102.000000</td>\n",
       "      <td>66.000000</td>\n",
       "      <td>...</td>\n",
       "      <td>48.125000</td>\n",
       "      <td>0.000000</td>\n",
       "      <td>0.000000</td>\n",
       "      <td>11.200000</td>\n",
       "      <td>0.000000</td>\n",
       "      <td>0.700000</td>\n",
       "      <td>2.100000</td>\n",
       "      <td>25.825000</td>\n",
       "      <td>41.325000</td>\n",
       "      <td>6.000000</td>\n",
       "    </tr>\n",
       "    <tr>\n",
       "      <th>max</th>\n",
       "      <td>83.000000</td>\n",
       "      <td>1.000000</td>\n",
       "      <td>780.000000</td>\n",
       "      <td>176.000000</td>\n",
       "      <td>188.000000</td>\n",
       "      <td>524.000000</td>\n",
       "      <td>509.000000</td>\n",
       "      <td>381.000000</td>\n",
       "      <td>205.000000</td>\n",
       "      <td>169.000000</td>\n",
       "      <td>...</td>\n",
       "      <td>127.900000</td>\n",
       "      <td>2.700000</td>\n",
       "      <td>0.000000</td>\n",
       "      <td>23.600000</td>\n",
       "      <td>0.000000</td>\n",
       "      <td>2.400000</td>\n",
       "      <td>6.000000</td>\n",
       "      <td>88.800000</td>\n",
       "      <td>115.900000</td>\n",
       "      <td>16.000000</td>\n",
       "    </tr>\n",
       "  </tbody>\n",
       "</table>\n",
       "<p>8 rows × 170 columns</p>\n",
       "</div>"
      ],
      "text/plain": [
       "              age         sex      height      weight  qrs_duration  \\\n",
       "count  444.000000  444.000000  444.000000  444.000000    444.000000   \n",
       "mean    46.277027    0.551802  166.191441   68.027027     89.022523   \n",
       "std     16.507535    0.497870   37.485610   16.655294     15.459535   \n",
       "min      0.000000    0.000000  105.000000    6.000000     55.000000   \n",
       "25%     36.000000    0.000000  160.000000   59.000000     80.000000   \n",
       "50%     46.000000    1.000000  164.000000   68.000000     87.000000   \n",
       "75%     58.000000    1.000000  170.000000   78.000000     94.000000   \n",
       "max     83.000000    1.000000  780.000000  176.000000    188.000000   \n",
       "\n",
       "       p-r_interval  q-t_interval  t_interval  p_interval         qrs  ...  \\\n",
       "count    444.000000    444.000000  444.000000  444.000000  444.000000  ...   \n",
       "mean     154.765766    366.943694  169.896396   89.716216   33.788288  ...   \n",
       "std       45.096176     33.200859   35.686092   25.901805   45.729949  ...   \n",
       "min        0.000000    232.000000  108.000000    0.000000 -172.000000  ...   \n",
       "25%      141.000000    350.000000  148.000000   79.000000    3.750000  ...   \n",
       "50%      157.000000    367.000000  162.000000   90.000000   40.000000  ...   \n",
       "75%      174.000000    383.000000  178.250000  102.000000   66.000000  ...   \n",
       "max      524.000000    509.000000  381.000000  205.000000  169.000000  ...   \n",
       "\n",
       "               KU          KV          KY          KZ          LA          LD  \\\n",
       "count  444.000000  444.000000  444.000000  444.000000  444.000000  444.000000   \n",
       "mean    33.071847   -0.298423   -0.276126    9.038514   -1.463063    0.515541   \n",
       "std     24.412159    0.604290    0.531081    3.439845    2.015255    0.348174   \n",
       "min    -63.600000   -5.600000   -4.100000    0.000000  -28.600000   -0.800000   \n",
       "25%     16.100000   -0.500000   -0.500000    6.600000   -2.100000    0.400000   \n",
       "50%     30.600000   -0.200000    0.000000    8.800000   -1.100000    0.500000   \n",
       "75%     48.125000    0.000000    0.000000   11.200000    0.000000    0.700000   \n",
       "max    127.900000    2.700000    0.000000   23.600000    0.000000    2.400000   \n",
       "\n",
       "               LE          LF          LG   diagnosis  \n",
       "count  444.000000  444.000000  444.000000  444.000000  \n",
       "mean     1.250225   19.301126   29.678378    3.880631  \n",
       "std      1.417060   13.487314   18.517302    4.402614  \n",
       "min     -6.000000  -44.200000  -38.600000    1.000000  \n",
       "25%      0.600000   11.500000   17.775000    1.000000  \n",
       "50%      1.400000   18.100000   28.100000    1.000000  \n",
       "75%      2.100000   25.825000   41.325000    6.000000  \n",
       "max      6.000000   88.800000  115.900000   16.000000  \n",
       "\n",
       "[8 rows x 170 columns]"
      ]
     },
     "execution_count": 16,
     "metadata": {},
     "output_type": "execute_result"
    }
   ],
   "source": [
    "df=pd.read_csv(\"new_dataframe_1.csv\")\n",
    "#df1=0:350, 80 20-acc1\n",
    "#df2=350:454- accu2\n",
    "X_train_df = df.drop(['diagnosis'], axis=1)\n",
    "y_train_df= df['diagnosis']\n",
    "df.describe(include='all')\n"
   ]
  },
  {
   "cell_type": "code",
   "execution_count": 17,
   "metadata": {
    "scrolled": true
   },
   "outputs": [
    {
     "name": "stdout",
     "output_type": "stream",
     "text": [
      "Resampled dataset shape 3172\n"
     ]
    }
   ],
   "source": [
    "sm = RandomOverSampler('not majority')\n",
    "X_res, y_res = sm.fit_resample(X_train_df, y_train_df)\n",
    "print('Resampled dataset shape %s' % len(y_res))"
   ]
  },
  {
   "cell_type": "code",
   "execution_count": 18,
   "metadata": {},
   "outputs": [
    {
     "data": {
      "text/plain": [
       "15    244\n",
       "9     244\n",
       "7     244\n",
       "5     244\n",
       "3     244\n",
       "1     244\n",
       "16    244\n",
       "14    244\n",
       "10    244\n",
       "8     244\n",
       "6     244\n",
       "4     244\n",
       "2     244\n",
       "Name: diagnosis, dtype: int64"
      ]
     },
     "execution_count": 18,
     "metadata": {},
     "output_type": "execute_result"
    },
    {
     "data": {
      "image/png": "[encoded data removed]",
      "text/plain": [
       "<Figure size 432x288 with 1 Axes>"
      ]
     },
     "metadata": {
      "needs_background": "light"
     },
     "output_type": "display_data"
    }
   ],
   "source": [
    "sns.countplot(y_res,data=df)\n",
    "y_res.value_counts()"
   ]
  },
  {
   "cell_type": "code",
   "execution_count": 19,
   "metadata": {},
   "outputs": [
    {
     "data": {
      "text/plain": [
       "1     244\n",
       "10     50\n",
       "2      39\n",
       "6      25\n",
       "16     21\n",
       "3      15\n",
       "4      14\n",
       "5      13\n",
       "9       9\n",
       "15      5\n",
       "14      4\n",
       "7       3\n",
       "8       2\n",
       "Name: diagnosis, dtype: int64"
      ]
     },
     "execution_count": 19,
     "metadata": {},
     "output_type": "execute_result"
    },
    {
     "data": {
      "image/png": "[encoded data removed]",
      "text/plain": [
       "<Figure size 432x288 with 1 Axes>"
      ]
     },
     "metadata": {
      "needs_background": "light"
     },
     "output_type": "display_data"
    }
   ],
   "source": [
    "sns.countplot(x='diagnosis',data=df)\n",
    "df['diagnosis'].value_counts()"
   ]
  },
  {
   "cell_type": "code",
   "execution_count": 20,
   "metadata": {},
   "outputs": [
    {
     "data": {
      "text/plain": [
       "0       8\n",
       "1       6\n",
       "2      10\n",
       "3       1\n",
       "4       7\n",
       "       ..\n",
       "439     1\n",
       "440    10\n",
       "441     2\n",
       "442     1\n",
       "443     1\n",
       "Name: diagnosis, Length: 444, dtype: int64"
      ]
     },
     "execution_count": 20,
     "metadata": {},
     "output_type": "execute_result"
    }
   ],
   "source": [
    "y_train_df"
   ]
  },
  {
   "cell_type": "code",
   "execution_count": 21,
   "metadata": {},
   "outputs": [
    {
     "ename": "NameError",
     "evalue": "name 'X' is not defined",
     "output_type": "error",
     "traceback": [
      "\u001b[1;31m---------------------------------------------------------------------------\u001b[0m",
      "\u001b[1;31mNameError\u001b[0m                                 Traceback (most recent call last)",
      "\u001b[1;32m<ipython-input-21-b1d71dd22732>\u001b[0m in \u001b[0;36m<module>\u001b[1;34m\u001b[0m\n\u001b[0;32m      1\u001b[0m \u001b[0mregr\u001b[0m \u001b[1;33m=\u001b[0m \u001b[0mlinear_model\u001b[0m\u001b[1;33m.\u001b[0m\u001b[0mLinearRegression\u001b[0m\u001b[1;33m(\u001b[0m\u001b[1;33m)\u001b[0m\u001b[1;33m\u001b[0m\u001b[1;33m\u001b[0m\u001b[0m\n\u001b[1;32m----> 2\u001b[1;33m \u001b[0mregr\u001b[0m\u001b[1;33m.\u001b[0m\u001b[0mfit\u001b[0m\u001b[1;33m(\u001b[0m\u001b[0mX\u001b[0m\u001b[1;33m,\u001b[0m \u001b[0my\u001b[0m\u001b[1;33m)\u001b[0m\u001b[1;33m\u001b[0m\u001b[1;33m\u001b[0m\u001b[0m\n\u001b[0m\u001b[0;32m      3\u001b[0m \u001b[1;31m#regr.fit(x_poly, y)\u001b[0m\u001b[1;33m\u001b[0m\u001b[1;33m\u001b[0m\u001b[1;33m\u001b[0m\u001b[0m\n\u001b[0;32m      4\u001b[0m \u001b[1;31m#y_poly_pred=model.predict(x_poly)\u001b[0m\u001b[1;33m\u001b[0m\u001b[1;33m\u001b[0m\u001b[1;33m\u001b[0m\u001b[0m\n\u001b[0;32m      5\u001b[0m \u001b[1;33m\u001b[0m\u001b[0m\n",
      "\u001b[1;31mNameError\u001b[0m: name 'X' is not defined"
     ]
    }
   ],
   "source": [
    "regr = linear_model.LinearRegression()\n",
    "regr.fit(X, y)\n",
    "#regr.fit(x_poly, y)\n",
    "#y_poly_pred=model.predict(x_poly)\n",
    "\n",
    "print('Intercept: \\n', regr.intercept_)\n",
    "print('Coefficients: \\n', regr.coef_)\n",
    "\n",
    "y_pred=regr.predict(X)\n",
    "print(np.sqrt(metrics.mean_squared_error(y,y_pred)))"
   ]
  },
  {
   "cell_type": "code",
   "execution_count": 22,
   "metadata": {},
   "outputs": [],
   "source": [
    "scaler = StandardScaler()\n",
    "X_train = scaler.fit_transform(X_train_df)\n",
    "\n"
   ]
  },
  {
   "cell_type": "code",
   "execution_count": 23,
   "metadata": {},
   "outputs": [
    {
     "data": {
      "text/plain": [
       "False"
      ]
     },
     "execution_count": 23,
     "metadata": {},
     "output_type": "execute_result"
    }
   ],
   "source": [
    "df.isnull().any().any()\n"
   ]
  },
  {
   "cell_type": "code",
   "execution_count": 24,
   "metadata": {},
   "outputs": [
    {
     "data": {
      "text/plain": [
       "(444, 170)"
      ]
     },
     "execution_count": 24,
     "metadata": {},
     "output_type": "execute_result"
    }
   ],
   "source": [
    "from sklearn import feature_selection\n",
    "\n",
    "sel = feature_selection.VarianceThreshold()\n",
    "train_variance = sel.fit_transform(df)\n",
    "train_variance.shape"
   ]
  },
  {
   "cell_type": "code",
   "execution_count": 25,
   "metadata": {},
   "outputs": [
    {
     "name": "stdout",
     "output_type": "stream",
     "text": [
      "diagnosis       1.000000\n",
      "DB              0.376509\n",
      "qrs_duration    0.322112\n",
      "DD              0.321046\n",
      "DN              0.269910\n",
      "IV              0.239344\n",
      "JH              0.208650\n",
      "s_wave          0.203718\n",
      "GF              0.203106\n",
      "AJ              0.193021\n",
      "Name: diagnosis, dtype: float64\n"
     ]
    }
   ],
   "source": [
    "corr_matrix = df.corr().abs()\n",
    "print(corr_matrix['diagnosis'].sort_values(ascending=False).head(10))"
   ]
  },
  {
   "cell_type": "code",
   "execution_count": 26,
   "metadata": {},
   "outputs": [
    {
     "name": "stdout",
     "output_type": "stream",
     "text": [
      "Columns to drop:  170\n"
     ]
    }
   ],
   "source": [
    "# Find index of feature columns with high correlation\n",
    "to_drop = [column for column in corr_matrix.columns if any(corr_matrix[column] > 0.50)]\n",
    "print('Columns to drop: ' , (len(to_drop)))"
   ]
  },
  {
   "cell_type": "code",
   "execution_count": 27,
   "metadata": {},
   "outputs": [
    {
     "name": "stdout",
     "output_type": "stream",
     "text": [
      "(444, 44)\n"
     ]
    }
   ],
   "source": [
    "from sklearn.decomposition import PCA\n",
    "# pca - keep 90% of variance\n",
    "pca = PCA(0.9)\n",
    "principal_components = pca.fit_transform(X_train)\n",
    "principal_df = pd.DataFrame(data = principal_components)\n",
    "print(principal_df.shape)\n"
   ]
  },
  {
   "cell_type": "code",
   "execution_count": 28,
   "metadata": {},
   "outputs": [
    {
     "name": "stdout",
     "output_type": "stream",
     "text": [
      "[0.00589639 0.00733769 0.00548096 0.00476058 0.00810313 0.00556413\n",
      " 0.00888753 0.00798671 0.0061296  0.00470301 0.00976829 0.00393316\n",
      " 0.00608979 0.02489422 0.00224419 0.00479899 0.00806816 0.00447402\n",
      " 0.00507444 0.00514688 0.00602839 0.00135389 0.00410285 0.00545528\n",
      " 0.00421469 0.00362797 0.00187502 0.00427936 0.00584853 0.00524695\n",
      " 0.00266966 0.00127377 0.0041504  0.00207043 0.00491422 0.00424034\n",
      " 0.00039596 0.00542555 0.00737846 0.00441231 0.00361199 0.00017323\n",
      " 0.00508496 0.00400895 0.0046808  0.00631232 0.03179805 0.02621605\n",
      " 0.00799261 0.00616581 0.00765586 0.01167637 0.00714255 0.01192266\n",
      " 0.00832248 0.01249222 0.00783794 0.00352513 0.00626564 0.00577937\n",
      " 0.00643049 0.00483004 0.00604123 0.0045176  0.00571145 0.00411865\n",
      " 0.00847752 0.00338454 0.00518256 0.00497284 0.00325577 0.00340315\n",
      " 0.00569136 0.00500051 0.00997209 0.00478116 0.00508662 0.00584279\n",
      " 0.00875609 0.00487231 0.00525556 0.00598889 0.01033987 0.00492548\n",
      " 0.00561334 0.00513948 0.00737032 0.0044897  0.00332165 0.00190569\n",
      " 0.00404526 0.00407022 0.00351485 0.00355848 0.00612216 0.00316512\n",
      " 0.00495612 0.0024953  0.00208041 0.00445178 0.01207512 0.00419736\n",
      " 0.00551603 0.00574439 0.00279083 0.00293107 0.00372837 0.00405023\n",
      " 0.00538264 0.00362125 0.00438733 0.00475156 0.0086008  0.00454315\n",
      " 0.00415579 0.00479795 0.00563129 0.00398147 0.00401551 0.00583209\n",
      " 0.00279452 0.00645334 0.00358848 0.01433107 0.00682543 0.00527462\n",
      " 0.00913447 0.00441207 0.00551378 0.00527886 0.00490924 0.00582549\n",
      " 0.00866379 0.00472003 0.0062214  0.0065798  0.00530999 0.0069963\n",
      " 0.00661543 0.0048789  0.00567157 0.00383051 0.0079687  0.00674953\n",
      " 0.0083542  0.0075226  0.00304278 0.00527528 0.00466372 0.00583375\n",
      " 0.00708193 0.00431418 0.00713766 0.00918777 0.00360732 0.00523131\n",
      " 0.00423934 0.00410284 0.0148126  0.0043023  0.00559853 0.00803526\n",
      " 0.00404239 0.00394286 0.00363181 0.00492762 0.01202458 0.0034978\n",
      " 0.00619872]\n"
     ]
    },
    {
     "data": {
      "text/plain": [
       "numpy.ndarray"
      ]
     },
     "execution_count": 28,
     "metadata": {},
     "output_type": "execute_result"
    }
   ],
   "source": [
    "from pandas import read_csv\n",
    "from sklearn.ensemble import ExtraTreesClassifier\n",
    "# load data\n",
    "\n",
    "# feature extraction\n",
    "model = ExtraTreesClassifier(n_estimators=100)\n",
    "model.fit(X_train_df, y_train_df)\n",
    "print(model.feature_importances_)\n",
    "len(model.feature_importances_)\n",
    "type(model.feature_importances_)\n"
   ]
  },
  {
   "cell_type": "code",
   "execution_count": 29,
   "metadata": {},
   "outputs": [
    {
     "data": {
      "image/png": "[encoded data removed]",
      "text/plain": [
       "<Figure size 432x288 with 1 Axes>"
      ]
     },
     "metadata": {
      "needs_background": "light"
     },
     "output_type": "display_data"
    }
   ],
   "source": [
    "feat_importances = pd.Series(model.feature_importances_, index=X_train_df.columns)\n",
    "feat_importances.nlargest(20).plot(kind='barh')\n",
    "plt.show()"
   ]
  },
  {
   "cell_type": "code",
   "execution_count": 30,
   "metadata": {},
   "outputs": [],
   "source": [
    "from sklearn.feature_selection import SelectKBest, f_classif\n",
    "# feature extraction\n",
    "k_best = SelectKBest(score_func=f_classif, k=100)\n",
    "# fit on train set\n",
    "fit = k_best.fit(X_train, y_train_df)\n",
    "# transform train set\n",
    "univariate_features = fit.transform(X_train)"
   ]
  },
  {
   "cell_type": "code",
   "execution_count": 31,
   "metadata": {},
   "outputs": [],
   "source": [
    "import pandas as pd\n",
    "import numpy as np\n",
    "import matplotlib\n",
    "import matplotlib.pyplot as plt\n",
    "import seaborn as sns\n",
    "import statsmodels.api as sm\n",
    "%matplotlib inline\n",
    "from sklearn.model_selection import train_test_split\n",
    "from sklearn.linear_model import LinearRegression\n",
    "from sklearn.feature_selection import RFE\n",
    "from sklearn.linear_model import RidgeCV, LassoCV, Ridge, Lasso"
   ]
  },
  {
   "cell_type": "code",
   "execution_count": 32,
   "metadata": {},
   "outputs": [
    {
     "data": {
      "text/plain": [
       "<Figure size 864x720 with 0 Axes>"
      ]
     },
     "metadata": {},
     "output_type": "display_data"
    }
   ],
   "source": [
    "plt.figure(figsize=(12,10))\n",
    "cor = df.corr()\n",
    "#sns.heatmap(cor, annot=True, cmap=plt.cm.Reds)\n",
    "#plt.show()"
   ]
  },
  {
   "cell_type": "code",
   "execution_count": 33,
   "metadata": {},
   "outputs": [
    {
     "data": {
      "text/html": [
       "<div>\n",
       "<style scoped>\n",
       "    .dataframe tbody tr th:only-of-type {\n",
       "        vertical-align: middle;\n",
       "    }\n",
       "\n",
       "    .dataframe tbody tr th {\n",
       "        vertical-align: top;\n",
       "    }\n",
       "\n",
       "    .dataframe thead th {\n",
       "        text-align: right;\n",
       "    }\n",
       "</style>\n",
       "<table border=\"1\" class=\"dataframe\">\n",
       "  <thead>\n",
       "    <tr style=\"text-align: right;\">\n",
       "      <th></th>\n",
       "      <th>age</th>\n",
       "      <th>sex</th>\n",
       "      <th>height</th>\n",
       "      <th>weight</th>\n",
       "      <th>qrs_duration</th>\n",
       "      <th>p-r_interval</th>\n",
       "      <th>q-t_interval</th>\n",
       "      <th>t_interval</th>\n",
       "      <th>p_interval</th>\n",
       "      <th>qrs</th>\n",
       "      <th>...</th>\n",
       "      <th>KU</th>\n",
       "      <th>KV</th>\n",
       "      <th>KY</th>\n",
       "      <th>KZ</th>\n",
       "      <th>LA</th>\n",
       "      <th>LD</th>\n",
       "      <th>LE</th>\n",
       "      <th>LF</th>\n",
       "      <th>LG</th>\n",
       "      <th>diagnosis</th>\n",
       "    </tr>\n",
       "  </thead>\n",
       "  <tbody>\n",
       "    <tr>\n",
       "      <th>age</th>\n",
       "      <td>1.000000</td>\n",
       "      <td>-0.064510</td>\n",
       "      <td>-0.108901</td>\n",
       "      <td>0.376976</td>\n",
       "      <td>0.002187</td>\n",
       "      <td>0.036578</td>\n",
       "      <td>0.189989</td>\n",
       "      <td>0.030014</td>\n",
       "      <td>0.091940</td>\n",
       "      <td>-0.262909</td>\n",
       "      <td>...</td>\n",
       "      <td>-0.219756</td>\n",
       "      <td>-0.220995</td>\n",
       "      <td>0.161923</td>\n",
       "      <td>-0.153478</td>\n",
       "      <td>0.083195</td>\n",
       "      <td>-0.039437</td>\n",
       "      <td>-0.267128</td>\n",
       "      <td>0.024035</td>\n",
       "      <td>-0.191449</td>\n",
       "      <td>-0.087289</td>\n",
       "    </tr>\n",
       "    <tr>\n",
       "      <th>sex</th>\n",
       "      <td>-0.064510</td>\n",
       "      <td>1.000000</td>\n",
       "      <td>-0.122030</td>\n",
       "      <td>-0.251161</td>\n",
       "      <td>-0.338305</td>\n",
       "      <td>-0.047114</td>\n",
       "      <td>0.064703</td>\n",
       "      <td>-0.175283</td>\n",
       "      <td>-0.085680</td>\n",
       "      <td>0.073653</td>\n",
       "      <td>...</td>\n",
       "      <td>-0.019223</td>\n",
       "      <td>-0.015653</td>\n",
       "      <td>0.227526</td>\n",
       "      <td>-0.034185</td>\n",
       "      <td>0.097306</td>\n",
       "      <td>0.010321</td>\n",
       "      <td>0.062055</td>\n",
       "      <td>0.038768</td>\n",
       "      <td>0.049239</td>\n",
       "      <td>-0.175850</td>\n",
       "    </tr>\n",
       "    <tr>\n",
       "      <th>height</th>\n",
       "      <td>-0.108901</td>\n",
       "      <td>-0.122030</td>\n",
       "      <td>1.000000</td>\n",
       "      <td>-0.075263</td>\n",
       "      <td>-0.006731</td>\n",
       "      <td>0.013715</td>\n",
       "      <td>-0.238489</td>\n",
       "      <td>-0.042143</td>\n",
       "      <td>0.030421</td>\n",
       "      <td>0.060880</td>\n",
       "      <td>...</td>\n",
       "      <td>-0.043540</td>\n",
       "      <td>0.131458</td>\n",
       "      <td>-0.018134</td>\n",
       "      <td>-0.076027</td>\n",
       "      <td>-0.091648</td>\n",
       "      <td>0.068608</td>\n",
       "      <td>-0.008324</td>\n",
       "      <td>-0.091939</td>\n",
       "      <td>-0.093352</td>\n",
       "      <td>0.006308</td>\n",
       "    </tr>\n",
       "    <tr>\n",
       "      <th>weight</th>\n",
       "      <td>0.376976</td>\n",
       "      <td>-0.251161</td>\n",
       "      <td>-0.075263</td>\n",
       "      <td>1.000000</td>\n",
       "      <td>0.105701</td>\n",
       "      <td>0.115513</td>\n",
       "      <td>0.122775</td>\n",
       "      <td>0.152347</td>\n",
       "      <td>0.114067</td>\n",
       "      <td>-0.169410</td>\n",
       "      <td>...</td>\n",
       "      <td>-0.086545</td>\n",
       "      <td>-0.126433</td>\n",
       "      <td>0.047369</td>\n",
       "      <td>-0.020901</td>\n",
       "      <td>0.052912</td>\n",
       "      <td>-0.043515</td>\n",
       "      <td>-0.142251</td>\n",
       "      <td>0.068780</td>\n",
       "      <td>-0.043704</td>\n",
       "      <td>-0.088185</td>\n",
       "    </tr>\n",
       "    <tr>\n",
       "      <th>qrs_duration</th>\n",
       "      <td>0.002187</td>\n",
       "      <td>-0.338305</td>\n",
       "      <td>-0.006731</td>\n",
       "      <td>0.105701</td>\n",
       "      <td>1.000000</td>\n",
       "      <td>0.025729</td>\n",
       "      <td>0.224509</td>\n",
       "      <td>0.400186</td>\n",
       "      <td>0.055617</td>\n",
       "      <td>-0.149106</td>\n",
       "      <td>...</td>\n",
       "      <td>-0.067620</td>\n",
       "      <td>-0.259806</td>\n",
       "      <td>-0.197775</td>\n",
       "      <td>0.088888</td>\n",
       "      <td>-0.230565</td>\n",
       "      <td>-0.063223</td>\n",
       "      <td>-0.229020</td>\n",
       "      <td>0.128362</td>\n",
       "      <td>-0.087837</td>\n",
       "      <td>0.322112</td>\n",
       "    </tr>\n",
       "    <tr>\n",
       "      <th>...</th>\n",
       "      <td>...</td>\n",
       "      <td>...</td>\n",
       "      <td>...</td>\n",
       "      <td>...</td>\n",
       "      <td>...</td>\n",
       "      <td>...</td>\n",
       "      <td>...</td>\n",
       "      <td>...</td>\n",
       "      <td>...</td>\n",
       "      <td>...</td>\n",
       "      <td>...</td>\n",
       "      <td>...</td>\n",
       "      <td>...</td>\n",
       "      <td>...</td>\n",
       "      <td>...</td>\n",
       "      <td>...</td>\n",
       "      <td>...</td>\n",
       "      <td>...</td>\n",
       "      <td>...</td>\n",
       "      <td>...</td>\n",
       "      <td>...</td>\n",
       "    </tr>\n",
       "    <tr>\n",
       "      <th>LD</th>\n",
       "      <td>-0.039437</td>\n",
       "      <td>0.010321</td>\n",
       "      <td>0.068608</td>\n",
       "      <td>-0.043515</td>\n",
       "      <td>-0.063223</td>\n",
       "      <td>0.148040</td>\n",
       "      <td>-0.042006</td>\n",
       "      <td>0.053089</td>\n",
       "      <td>0.253799</td>\n",
       "      <td>0.081671</td>\n",
       "      <td>...</td>\n",
       "      <td>-0.158034</td>\n",
       "      <td>0.027135</td>\n",
       "      <td>-0.114934</td>\n",
       "      <td>-0.000407</td>\n",
       "      <td>-0.093602</td>\n",
       "      <td>1.000000</td>\n",
       "      <td>-0.051318</td>\n",
       "      <td>-0.068782</td>\n",
       "      <td>-0.067515</td>\n",
       "      <td>-0.075216</td>\n",
       "    </tr>\n",
       "    <tr>\n",
       "      <th>LE</th>\n",
       "      <td>-0.267128</td>\n",
       "      <td>0.062055</td>\n",
       "      <td>-0.008324</td>\n",
       "      <td>-0.142251</td>\n",
       "      <td>-0.229020</td>\n",
       "      <td>0.071362</td>\n",
       "      <td>-0.024923</td>\n",
       "      <td>-0.182955</td>\n",
       "      <td>0.027031</td>\n",
       "      <td>0.065284</td>\n",
       "      <td>...</td>\n",
       "      <td>0.618600</td>\n",
       "      <td>0.536328</td>\n",
       "      <td>0.098166</td>\n",
       "      <td>0.110296</td>\n",
       "      <td>-0.068741</td>\n",
       "      <td>-0.051318</td>\n",
       "      <td>1.000000</td>\n",
       "      <td>-0.117883</td>\n",
       "      <td>0.691233</td>\n",
       "      <td>-0.022157</td>\n",
       "    </tr>\n",
       "    <tr>\n",
       "      <th>LF</th>\n",
       "      <td>0.024035</td>\n",
       "      <td>0.038768</td>\n",
       "      <td>-0.091939</td>\n",
       "      <td>0.068780</td>\n",
       "      <td>0.128362</td>\n",
       "      <td>-0.030856</td>\n",
       "      <td>0.260713</td>\n",
       "      <td>0.126982</td>\n",
       "      <td>-0.019236</td>\n",
       "      <td>0.293565</td>\n",
       "      <td>...</td>\n",
       "      <td>0.546013</td>\n",
       "      <td>-0.581156</td>\n",
       "      <td>0.035529</td>\n",
       "      <td>0.664243</td>\n",
       "      <td>0.562399</td>\n",
       "      <td>-0.068782</td>\n",
       "      <td>-0.117883</td>\n",
       "      <td>1.000000</td>\n",
       "      <td>0.612481</td>\n",
       "      <td>-0.011015</td>\n",
       "    </tr>\n",
       "    <tr>\n",
       "      <th>LG</th>\n",
       "      <td>-0.191449</td>\n",
       "      <td>0.049239</td>\n",
       "      <td>-0.093352</td>\n",
       "      <td>-0.043704</td>\n",
       "      <td>-0.087837</td>\n",
       "      <td>0.024763</td>\n",
       "      <td>0.163207</td>\n",
       "      <td>-0.015277</td>\n",
       "      <td>0.009122</td>\n",
       "      <td>0.252218</td>\n",
       "      <td>...</td>\n",
       "      <td>0.881515</td>\n",
       "      <td>0.008203</td>\n",
       "      <td>0.095904</td>\n",
       "      <td>0.563203</td>\n",
       "      <td>0.342416</td>\n",
       "      <td>-0.067515</td>\n",
       "      <td>0.691233</td>\n",
       "      <td>0.612481</td>\n",
       "      <td>1.000000</td>\n",
       "      <td>-0.014823</td>\n",
       "    </tr>\n",
       "    <tr>\n",
       "      <th>diagnosis</th>\n",
       "      <td>-0.087289</td>\n",
       "      <td>-0.175850</td>\n",
       "      <td>0.006308</td>\n",
       "      <td>-0.088185</td>\n",
       "      <td>0.322112</td>\n",
       "      <td>-0.104128</td>\n",
       "      <td>0.032786</td>\n",
       "      <td>0.094216</td>\n",
       "      <td>-0.125422</td>\n",
       "      <td>0.015067</td>\n",
       "      <td>...</td>\n",
       "      <td>0.041775</td>\n",
       "      <td>-0.051601</td>\n",
       "      <td>-0.132106</td>\n",
       "      <td>0.014643</td>\n",
       "      <td>-0.076338</td>\n",
       "      <td>-0.075216</td>\n",
       "      <td>-0.022157</td>\n",
       "      <td>-0.011015</td>\n",
       "      <td>-0.014823</td>\n",
       "      <td>1.000000</td>\n",
       "    </tr>\n",
       "  </tbody>\n",
       "</table>\n",
       "<p>170 rows × 170 columns</p>\n",
       "</div>"
      ],
      "text/plain": [
       "                   age       sex    height    weight  qrs_duration  \\\n",
       "age           1.000000 -0.064510 -0.108901  0.376976      0.002187   \n",
       "sex          -0.064510  1.000000 -0.122030 -0.251161     -0.338305   \n",
       "height       -0.108901 -0.122030  1.000000 -0.075263     -0.006731   \n",
       "weight        0.376976 -0.251161 -0.075263  1.000000      0.105701   \n",
       "qrs_duration  0.002187 -0.338305 -0.006731  0.105701      1.000000   \n",
       "...                ...       ...       ...       ...           ...   \n",
       "LD           -0.039437  0.010321  0.068608 -0.043515     -0.063223   \n",
       "LE           -0.267128  0.062055 -0.008324 -0.142251     -0.229020   \n",
       "LF            0.024035  0.038768 -0.091939  0.068780      0.128362   \n",
       "LG           -0.191449  0.049239 -0.093352 -0.043704     -0.087837   \n",
       "diagnosis    -0.087289 -0.175850  0.006308 -0.088185      0.322112   \n",
       "\n",
       "              p-r_interval  q-t_interval  t_interval  p_interval       qrs  \\\n",
       "age               0.036578      0.189989    0.030014    0.091940 -0.262909   \n",
       "sex              -0.047114      0.064703   -0.175283   -0.085680  0.073653   \n",
       "height            0.013715     -0.238489   -0.042143    0.030421  0.060880   \n",
       "weight            0.115513      0.122775    0.152347    0.114067 -0.169410   \n",
       "qrs_duration      0.025729      0.224509    0.400186    0.055617 -0.149106   \n",
       "...                    ...           ...         ...         ...       ...   \n",
       "LD                0.148040     -0.042006    0.053089    0.253799  0.081671   \n",
       "LE                0.071362     -0.024923   -0.182955    0.027031  0.065284   \n",
       "LF               -0.030856      0.260713    0.126982   -0.019236  0.293565   \n",
       "LG                0.024763      0.163207   -0.015277    0.009122  0.252218   \n",
       "diagnosis        -0.104128      0.032786    0.094216   -0.125422  0.015067   \n",
       "\n",
       "              ...        KU        KV        KY        KZ        LA        LD  \\\n",
       "age           ... -0.219756 -0.220995  0.161923 -0.153478  0.083195 -0.039437   \n",
       "sex           ... -0.019223 -0.015653  0.227526 -0.034185  0.097306  0.010321   \n",
       "height        ... -0.043540  0.131458 -0.018134 -0.076027 -0.091648  0.068608   \n",
       "weight        ... -0.086545 -0.126433  0.047369 -0.020901  0.052912 -0.043515   \n",
       "qrs_duration  ... -0.067620 -0.259806 -0.197775  0.088888 -0.230565 -0.063223   \n",
       "...           ...       ...       ...       ...       ...       ...       ...   \n",
       "LD            ... -0.158034  0.027135 -0.114934 -0.000407 -0.093602  1.000000   \n",
       "LE            ...  0.618600  0.536328  0.098166  0.110296 -0.068741 -0.051318   \n",
       "LF            ...  0.546013 -0.581156  0.035529  0.664243  0.562399 -0.068782   \n",
       "LG            ...  0.881515  0.008203  0.095904  0.563203  0.342416 -0.067515   \n",
       "diagnosis     ...  0.041775 -0.051601 -0.132106  0.014643 -0.076338 -0.075216   \n",
       "\n",
       "                    LE        LF        LG  diagnosis  \n",
       "age          -0.267128  0.024035 -0.191449  -0.087289  \n",
       "sex           0.062055  0.038768  0.049239  -0.175850  \n",
       "height       -0.008324 -0.091939 -0.093352   0.006308  \n",
       "weight       -0.142251  0.068780 -0.043704  -0.088185  \n",
       "qrs_duration -0.229020  0.128362 -0.087837   0.322112  \n",
       "...                ...       ...       ...        ...  \n",
       "LD           -0.051318 -0.068782 -0.067515  -0.075216  \n",
       "LE            1.000000 -0.117883  0.691233  -0.022157  \n",
       "LF           -0.117883  1.000000  0.612481  -0.011015  \n",
       "LG            0.691233  0.612481  1.000000  -0.014823  \n",
       "diagnosis    -0.022157 -0.011015 -0.014823   1.000000  \n",
       "\n",
       "[170 rows x 170 columns]"
      ]
     },
     "execution_count": 33,
     "metadata": {},
     "output_type": "execute_result"
    }
   ],
   "source": [
    "cor"
   ]
  },
  {
   "cell_type": "code",
   "execution_count": 34,
   "metadata": {},
   "outputs": [
    {
     "data": {
      "text/plain": [
       "diagnosis    1.0\n",
       "Name: diagnosis, dtype: float64"
      ]
     },
     "execution_count": 34,
     "metadata": {},
     "output_type": "execute_result"
    }
   ],
   "source": [
    "#Correlation with output variable\n",
    "cor_target = abs(cor[\"diagnosis\"])\n",
    "#Selecting highly correlated features\n",
    "relevant_features = cor_target[cor_target>0.5]\n",
    "relevant_features"
   ]
  },
  {
   "cell_type": "code",
   "execution_count": 35,
   "metadata": {},
   "outputs": [
    {
     "name": "stdout",
     "output_type": "stream",
     "text": [
      "(444, 20)\n"
     ]
    },
    {
     "data": {
      "text/plain": [
       "SelectKBest(k=20, score_func=<function f_classif at 0x00000261BAE27D38>)"
      ]
     },
     "execution_count": 35,
     "metadata": {},
     "output_type": "execute_result"
    }
   ],
   "source": [
    "from sklearn.datasets import make_classification\n",
    "from sklearn.feature_selection import SelectKBest\n",
    "from sklearn.feature_selection import f_classif\n",
    "from sklearn.feature_selection import chi2\n",
    "# generate dataset\n",
    "X_train,y_train_df = make_classification(n_samples=444, n_features=20, n_informative=2)\n",
    "# define feature selection\n",
    "fs = SelectKBest(score_func=f_classif, k=20)\n",
    "# apply feature selection\n",
    "X_selected = fs.fit_transform(X_train, y_train_df)\n",
    "print(X_selected.shape)\n",
    "fs"
   ]
  },
  {
   "cell_type": "code",
   "execution_count": null,
   "metadata": {},
   "outputs": [],
   "source": [
    "\n"
   ]
  },
  {
   "cell_type": "code",
   "execution_count": 36,
   "metadata": {},
   "outputs": [
    {
     "data": {
      "text/plain": [
       "ExtraTreesClassifier(bootstrap=False, ccp_alpha=0.0, class_weight=None,\n",
       "                     criterion='gini', max_depth=None, max_features='auto',\n",
       "                     max_leaf_nodes=None, max_samples=None,\n",
       "                     min_impurity_decrease=0.0, min_impurity_split=None,\n",
       "                     min_samples_leaf=1, min_samples_split=2,\n",
       "                     min_weight_fraction_leaf=0.0, n_estimators=100,\n",
       "                     n_jobs=None, oob_score=False, random_state=None, verbose=0,\n",
       "                     warm_start=False)"
      ]
     },
     "execution_count": 36,
     "metadata": {},
     "output_type": "execute_result"
    }
   ],
   "source": [
    "from sklearn.ensemble import ExtraTreesClassifier\n",
    "import matplotlib.pyplot as plt\n",
    "model = ExtraTreesClassifier()\n",
    "model.fit(X_train_df,y_train_df)"
   ]
  },
  {
   "cell_type": "code",
   "execution_count": 37,
   "metadata": {},
   "outputs": [
    {
     "name": "stdout",
     "output_type": "stream",
     "text": [
      "[0.00821173 0.00808511 0.00689733 0.00912557 0.00665574 0.00612841\n",
      " 0.00780338 0.00714859 0.00856818 0.00498543 0.00530623 0.00557986\n",
      " 0.00499928 0.00739238 0.00459402 0.00676496 0.00554944 0.0067191\n",
      " 0.00401825 0.00778237 0.00722661 0.00160321 0.00577999 0.00529469\n",
      " 0.00702554 0.00522253 0.00304246 0.00781899 0.0065784  0.00886627\n",
      " 0.00255229 0.00208283 0.00669086 0.00559236 0.00645892 0.00610472\n",
      " 0.00187974 0.00712392 0.00452969 0.00597461 0.00554418 0.00513248\n",
      " 0.00908179 0.00467759 0.0057491  0.00570674 0.00389832 0.0074061\n",
      " 0.00299084 0.00609705 0.00662728 0.00272043 0.00612454 0.00166355\n",
      " 0.00584961 0.00592858 0.00613915 0.00422605 0.0088788  0.00748054\n",
      " 0.00540403 0.00410273 0.0072157  0.00641248 0.00698659 0.00441068\n",
      " 0.00684178 0.00609662 0.00741557 0.0068318  0.00546967 0.0077482\n",
      " 0.00816454 0.00593423 0.00596726 0.00555963 0.00585009 0.00776159\n",
      " 0.00400054 0.00703511 0.00603862 0.00641825 0.00600343 0.00559875\n",
      " 0.005968   0.00715844 0.00463436 0.00554566 0.00492647 0.00187099\n",
      " 0.00653967 0.00679246 0.00620657 0.0064736  0.00825173 0.00622449\n",
      " 0.00542923 0.00259888 0.00224842 0.0061351  0.00560919 0.00494003\n",
      " 0.00946224 0.00528656 0.0038306  0.00576968 0.00524253 0.0067734\n",
      " 0.00647097 0.0060779  0.00607902 0.00808835 0.00302787 0.00573698\n",
      " 0.00526731 0.00647471 0.00729508 0.00516218 0.00642827 0.00601843\n",
      " 0.00386279 0.00552551 0.00600772 0.00496717 0.00732093 0.00659318\n",
      " 0.00591842 0.00639074 0.00725073 0.00214551 0.00568303 0.00627226\n",
      " 0.00225201 0.00851853 0.01003433 0.00640561 0.00675463 0.00567038\n",
      " 0.00162785 0.00467364 0.00580231 0.0083231  0.00656555 0.00611263\n",
      " 0.00673525 0.00662636 0.00337097 0.00657764 0.00532384 0.00793406\n",
      " 0.00633557 0.00442412 0.00689316 0.0065507  0.0027409  0.00706472\n",
      " 0.00740933 0.00559745 0.00594085 0.00659716 0.00632905 0.00614042\n",
      " 0.0034085  0.00820638 0.00626373 0.00616968 0.00625487 0.0065071\n",
      " 0.00691966]\n"
     ]
    }
   ],
   "source": [
    "print(model.feature_importances_)"
   ]
  },
  {
   "cell_type": "code",
   "execution_count": 38,
   "metadata": {},
   "outputs": [
    {
     "data": {
      "image/png": "[encoded data removed]",
      "text/plain": [
       "<Figure size 432x288 with 1 Axes>"
      ]
     },
     "metadata": {
      "needs_background": "light"
     },
     "output_type": "display_data"
    },
    {
     "data": {
      "text/plain": [
       "age             0.008212\n",
       "sex             0.008085\n",
       "height          0.006897\n",
       "weight          0.009126\n",
       "qrs_duration    0.006656\n",
       "                  ...   \n",
       "LA              0.006264\n",
       "LD              0.006170\n",
       "LE              0.006255\n",
       "LF              0.006507\n",
       "LG              0.006920\n",
       "Length: 169, dtype: float64"
      ]
     },
     "execution_count": 38,
     "metadata": {},
     "output_type": "execute_result"
    }
   ],
   "source": [
    "#plot graph of feature importances for better visualization\n",
    "feat_importances = pd.Series(model.feature_importances_, index=X_train_df.columns)\n",
    "feat_importances.nlargest(44).plot(kind='barh')\n",
    "plt.show()\n",
    "feat_importances.nlargest(44)\n",
    "feat_importances"
   ]
  },
  {
   "cell_type": "code",
   "execution_count": 39,
   "metadata": {},
   "outputs": [
    {
     "data": {
      "text/plain": [
       "(array([ 4.10472426e-01,  1.53743877e+00,  1.29049834e+00,  1.60276142e+00,\n",
       "         2.12265808e+00,  1.72774491e+00,  4.22449313e-01,  1.42368576e-01,\n",
       "         1.10975556e-01,  8.83808293e-01,  1.07000343e+00,  3.59729758e-01,\n",
       "         8.61457217e-01,  2.75845429e-01,  6.13473299e-02,  7.74181333e-01,\n",
       "         6.88483847e-03,  1.72455803e-02,  8.18891076e-02,  1.05078940e+00,\n",
       "         1.29275392e-03,  1.81011283e-01,  7.50939628e-02,  1.06951040e+00,\n",
       "         3.88098872e-01,  1.62707313e+00,  8.16626636e-02,  9.31854823e-01,\n",
       "         1.46842368e+00,  8.81937535e-01,  1.86597726e+00,  4.55077922e-01,\n",
       "         2.13236423e-01,  6.78015050e-01,  8.10876513e-01,  6.87667939e-01,\n",
       "         2.10646156e-01,  4.65931903e-01,  5.35611169e-01,  2.55415991e-01,\n",
       "         7.22230675e-02,  4.34716288e+00,  1.73339711e+00,  2.07565501e+00,\n",
       "         2.22951818e-02,  4.65217075e-01,  1.17119129e+00,  2.87732665e-01,\n",
       "         3.19085221e-01,  6.37819590e-01,  2.60067312e-02,  1.30662922e-01,\n",
       "         3.48160005e-01,  2.45407936e-01,  2.08818173e-01,  3.96994593e-01,\n",
       "         2.32223687e-01,  1.54184432e+00,  1.45082849e-01,  3.26724990e+00,\n",
       "         7.09406312e-02,  3.08632493e-02,  1.17389907e+00,  1.55683545e-01,\n",
       "         1.41981747e+00,  6.16724123e-01,  4.02467046e-02,  1.46223575e-01,\n",
       "         5.72394081e-02,  6.89015991e-01, -2.22503221e-14,  1.86992347e+00,\n",
       "         6.14947493e-02,  1.72811827e+00,  6.10636318e-03,  5.53997482e-02,\n",
       "         8.54142631e-02,  1.93482078e+00,  8.68663001e-03,  3.21351266e-01,\n",
       "         8.04577766e-02,  6.19067620e-02,  1.01993997e-03,  6.05274930e-02,\n",
       "         1.79947518e-02,  2.76053680e-01,  1.32096929e+00,  1.92389137e-02,\n",
       "         2.10540664e-01,  4.40097414e-01,  1.59091555e+00,  2.57658829e-04,\n",
       "         3.44940195e-03,  1.81535232e-03,  2.09577223e+00,  3.13007064e-03,\n",
       "         7.88128968e-04,  1.08882288e+00,  6.99659683e-01,  4.89376408e-01,\n",
       "         1.16578840e-03,  9.27743907e-02,  1.28441657e-01,  2.73735059e-01,\n",
       "         5.91087346e-01,  4.74274348e-01,  2.72356600e-04,  8.97658724e-01,\n",
       "         9.61572977e-03,  1.42593742e-02,  7.39600841e-03,  3.96926232e+00,\n",
       "         7.10199423e-01,  3.21532462e-02,  2.55356923e-03,  1.57810495e-01,\n",
       "         2.90349651e-03,  4.99138640e-02,  2.36357473e-02,  1.79307306e-01,\n",
       "         4.33918085e-01,  2.18496198e-01,  4.76628868e-01,  1.83336460e+00,\n",
       "         6.92660197e-02,  2.98901971e-01,  7.85657733e-03,  1.76728012e-01,\n",
       "         1.60959623e+00,  6.17770374e-02,  4.14512480e-01,  2.00459685e-02,\n",
       "         2.50459960e-01,  7.47646387e+00,  1.20137341e-01,  4.72450139e-01,\n",
       "         3.03015482e-05,  5.20151064e-01,  7.10890044e-01,  6.45027332e-02,\n",
       "         1.10008673e-02,  6.33643436e+00,  1.39704495e-01,  4.15026090e-05,\n",
       "         2.11390915e-01,  1.38837055e-01,  2.14713860e+00,  2.01260969e-02,\n",
       "         6.95319538e-01,  7.67048752e-02,  1.51562045e-01,  5.21635550e-02,\n",
       "         7.08242684e-03,  4.42540785e-04,  5.25254921e-01,  3.16577920e-01,\n",
       "         1.86299459e-01,  2.60380615e-01,  1.42797066e-01,  4.18907359e-01,\n",
       "         5.27214216e-01,  4.24343161e-01,  1.14732763e-02,  8.29720837e-02,\n",
       "         5.75748271e-02,  1.66834844e-03,  2.51793303e-03,  3.96611499e-01,\n",
       "         1.98506016e-01]),\n",
       " array([0.52206183, 0.21565731, 0.2565717 , 0.20617917, 0.1458445 ,\n",
       "        0.18938081, 0.51605506, 0.70611869, 0.73919416, 0.34767421,\n",
       "        0.30151029, 0.5489637 , 0.35383778, 0.59970064, 0.80449398,\n",
       "        0.37940475, 0.93390904, 0.89558   , 0.77488756, 0.30588603,\n",
       "        0.97133456, 0.67071267, 0.78418745, 0.30162155, 0.53362171,\n",
       "        0.20277833, 0.77519061, 0.33490927, 0.22624197, 0.34818446,\n",
       "        0.17263114, 0.50028603, 0.64446966, 0.41071512, 0.3683516 ,\n",
       "        0.40740634, 0.64648704, 0.49522224, 0.46464516, 0.61353898,\n",
       "        0.78825247, 0.03764396, 0.1886599 , 0.15037367, 0.88137262,\n",
       "        0.49555307, 0.27974665, 0.59194703, 0.57244448, 0.42493037,\n",
       "        0.87195757, 0.71791841, 0.55545808, 0.62057341, 0.64791979,\n",
       "        0.52897106, 0.6301184 , 0.21500199, 0.70346237, 0.07135572,\n",
       "        0.79009632, 0.86062628, 0.2791922 , 0.69335239, 0.23407286,\n",
       "        0.43268798, 0.84109127, 0.70235449, 0.8110245 , 0.40694738,\n",
       "               nan, 0.17217878, 0.804264  , 0.18933309, 0.93774949,\n",
       "        0.81402941, 0.77022712, 0.1649318 , 0.92578524, 0.57108447,\n",
       "        0.77681082, 0.80362279, 0.97453711, 0.80577836, 0.89334936,\n",
       "        0.59956298, 0.2510397 , 0.8897469 , 0.64656952, 0.50742128,\n",
       "        0.20786066, 0.98720035, 0.95319243, 0.96603409, 0.14841597,\n",
       "        0.95540928, 0.97761609, 0.29730253, 0.40335005, 0.48457359,\n",
       "        0.97277802, 0.76082264, 0.72022439, 0.60109938, 0.44240956,\n",
       "        0.49138862, 0.98684037, 0.34392796, 0.92192924, 0.90500272,\n",
       "        0.93150532, 0.04695273, 0.3998334 , 0.8577739 , 0.9597206 ,\n",
       "        0.69137215, 0.95705185, 0.82331644, 0.87788553, 0.67217518,\n",
       "        0.51041563, 0.6404185 , 0.49031564, 0.17642252, 0.79253111,\n",
       "        0.5848475 , 0.92941028, 0.67440465, 0.20521631, 0.80382443,\n",
       "        0.52002191, 0.88747328, 0.61700048, 0.00650224, 0.72905053,\n",
       "        0.49222264, 0.9956104 , 0.47115855, 0.39960453, 0.79963384,\n",
       "        0.91651462, 0.01218094, 0.70875418, 0.99486277, 0.64590546,\n",
       "        0.70961849, 0.14354684, 0.88725011, 0.40481128, 0.78194302,\n",
       "        0.69723455, 0.81944603, 0.93296958, 0.98322591, 0.46899212,\n",
       "        0.57395674, 0.66622501, 0.61011351, 0.70569743, 0.51781875,\n",
       "        0.46816473, 0.51511635, 0.91474763, 0.77344444, 0.81048216,\n",
       "        0.96743757, 0.96000241, 0.52916983, 0.6561476 ]))"
      ]
     },
     "execution_count": 39,
     "metadata": {},
     "output_type": "execute_result"
    }
   ],
   "source": [
    "\n",
    "sklearn.feature_selection.f_classif(X_train_df, y_train_df)"
   ]
  },
  {
   "cell_type": "code",
   "execution_count": 40,
   "metadata": {},
   "outputs": [],
   "source": [
    "import numpy as np\n",
    "import matplotlib.pyplot as plt\n",
    "\n",
    "from sklearn.datasets import load_iris\n",
    "from sklearn.model_selection import train_test_split\n",
    "from sklearn.preprocessing import MinMaxScaler\n",
    "from sklearn.svm import LinearSVC\n",
    "from sklearn.pipeline import make_pipeline\n",
    "from sklearn.feature_selection import SelectKBest, f_classif"
   ]
  },
  {
   "cell_type": "code",
   "execution_count": 41,
   "metadata": {},
   "outputs": [],
   "source": [
    "X_train1, X_test, y_train1, y_test = train_test_split(\n",
    "        X_train_df, y_train_df, stratify=y_train_df, random_state=0\n",
    ")"
   ]
  },
  {
   "cell_type": "code",
   "execution_count": 42,
   "metadata": {},
   "outputs": [],
   "source": [
    "X_indices = np.arange(X_train_df.shape[-1])"
   ]
  },
  {
   "cell_type": "code",
   "execution_count": 43,
   "metadata": {},
   "outputs": [
    {
     "data": {
      "text/plain": [
       "array([0.00137677, 0.40708592, 0.39301685, 0.24648169, 0.45420413,\n",
       "       0.11762956, 0.34741273, 0.17691004, 0.23247334, 0.08739127,\n",
       "       0.40308738, 0.01422415, 0.08268003, 0.10409017, 0.13249155,\n",
       "       0.17126825, 0.06026244, 0.15975271, 0.05381517, 0.01871825,\n",
       "       0.06883978, 0.67683601, 0.3693293 , 0.0573272 , 0.05159102,\n",
       "       0.34928653, 0.02134378, 0.31213862, 0.15003412, 0.20437993,\n",
       "       0.2087472 , 0.04215438, 0.08090114, 0.08598435, 0.32192013,\n",
       "       0.17360198, 0.2266432 , 0.07093579, 0.04410493, 0.14674824,\n",
       "       0.05466289, 0.81489836, 0.56188039, 0.4740049 , 0.05118445,\n",
       "       0.1020895 , 0.25944319, 0.20639387, 0.08701765, 0.04773331,\n",
       "       0.05346891, 0.01352281, 0.01650427, 0.131122  , 0.04771974,\n",
       "       0.21658923, 0.03976134, 0.47063827, 0.17504726, 0.97127481,\n",
       "       0.11151694, 0.02941124, 0.19784229, 0.00501971, 0.28486736,\n",
       "       0.16478559, 0.03864713, 0.03168071, 0.08881842, 0.50686562,\n",
       "       0.07554712, 0.34774439, 0.09614817, 0.48889153, 0.03272975,\n",
       "       0.09174982, 0.05063156, 0.76422479, 0.02601506, 0.23247257,\n",
       "       0.03957701, 0.01485406, 0.00684492, 0.10260163, 0.03464107,\n",
       "       0.18537395, 0.16257349, 0.00635557, 0.13155423, 0.26017974,\n",
       "       0.2211489 , 0.04304845, 0.03161566, 0.02519572, 1.        ,\n",
       "       0.17682578, 0.04993883, 0.08673329, 0.07810983, 0.15867146,\n",
       "       0.0136615 , 0.16364063, 0.13165224, 0.02854094, 0.03622398,\n",
       "       0.02077996, 0.07554928, 0.02699044, 0.06584226, 0.02761884,\n",
       "       0.03150256, 0.72803051, 0.15549765, 0.10694621, 0.16668594,\n",
       "       0.00222789, 0.02514313, 0.06825093, 0.07455915, 0.20734446,\n",
       "       0.09071833, 0.11118093, 0.18101785, 0.41719597, 0.00717588,\n",
       "       0.13812557, 0.05046288, 0.11672478, 0.00782888, 0.07041882,\n",
       "       0.04763018, 0.00504077, 0.23111939, 0.63583118, 0.21806038,\n",
       "       0.00672671, 0.14678371, 0.00685208, 0.28488152, 0.12643208,\n",
       "       0.06707142, 0.66668134, 0.17239678, 0.07643083, 0.0920239 ,\n",
       "       0.03395613, 0.42998987, 0.13764641, 0.51898647, 0.10801657,\n",
       "       0.03045141, 0.03677418, 0.0639632 , 0.07809821, 0.06567536,\n",
       "       0.09567657, 0.49472676, 0.07077623, 0.07431435, 0.014955  ,\n",
       "       0.0363352 , 0.05193545, 0.0383934 , 0.04354665, 0.35935027,\n",
       "       0.09892129, 0.06022889, 0.06333277, 0.08271543])"
      ]
     },
     "execution_count": 43,
     "metadata": {},
     "output_type": "execute_result"
    }
   ],
   "source": [
    "selector = SelectKBest(f_classif, k=10)\n",
    "fit=selector.fit(X_train1, y_train1)\n",
    "scores = -np.log10(selector.pvalues_)\n",
    "scores /= scores.max()\n",
    "dfscores = pd.DataFrame(fit.scores_)\n",
    "dfcolumns = pd.DataFrame(X_train_df.columns)\n",
    "\n",
    "scores"
   ]
  },
  {
   "cell_type": "code",
   "execution_count": 44,
   "metadata": {},
   "outputs": [],
   "source": [
    "#concat two dataframes for better visualization \n",
    "featureScores = pd.concat([dfcolumns,dfscores],axis=1)\n",
    "featureScores.columns = ['Specs','Score']  #naming the dataframe "
   ]
  },
  {
   "cell_type": "code",
   "execution_count": 45,
   "metadata": {},
   "outputs": [
    {
     "data": {
      "text/html": [
       "<div>\n",
       "<style scoped>\n",
       "    .dataframe tbody tr th:only-of-type {\n",
       "        vertical-align: middle;\n",
       "    }\n",
       "\n",
       "    .dataframe tbody tr th {\n",
       "        vertical-align: top;\n",
       "    }\n",
       "\n",
       "    .dataframe thead th {\n",
       "        text-align: right;\n",
       "    }\n",
       "</style>\n",
       "<table border=\"1\" class=\"dataframe\">\n",
       "  <thead>\n",
       "    <tr style=\"text-align: right;\">\n",
       "      <th></th>\n",
       "      <th>Specs</th>\n",
       "      <th>Score</th>\n",
       "    </tr>\n",
       "  </thead>\n",
       "  <tbody>\n",
       "    <tr>\n",
       "      <th>0</th>\n",
       "      <td>age</td>\n",
       "      <td>0.000044</td>\n",
       "    </tr>\n",
       "    <tr>\n",
       "      <th>1</th>\n",
       "      <td>sex</td>\n",
       "      <td>1.595511</td>\n",
       "    </tr>\n",
       "    <tr>\n",
       "      <th>2</th>\n",
       "      <td>height</td>\n",
       "      <td>1.516540</td>\n",
       "    </tr>\n",
       "    <tr>\n",
       "      <th>3</th>\n",
       "      <td>weight</td>\n",
       "      <td>0.754083</td>\n",
       "    </tr>\n",
       "    <tr>\n",
       "      <th>4</th>\n",
       "      <td>qrs_duration</td>\n",
       "      <td>1.865640</td>\n",
       "    </tr>\n",
       "    <tr>\n",
       "      <th>...</th>\n",
       "      <td>...</td>\n",
       "      <td>...</td>\n",
       "    </tr>\n",
       "    <tr>\n",
       "      <th>164</th>\n",
       "      <td>LA</td>\n",
       "      <td>1.331081</td>\n",
       "    </tr>\n",
       "    <tr>\n",
       "      <th>165</th>\n",
       "      <td>LD</td>\n",
       "      <td>0.167800</td>\n",
       "    </tr>\n",
       "    <tr>\n",
       "      <th>166</th>\n",
       "      <td>LE</td>\n",
       "      <td>0.069402</td>\n",
       "    </tr>\n",
       "    <tr>\n",
       "      <th>167</th>\n",
       "      <td>LF</td>\n",
       "      <td>0.076027</td>\n",
       "    </tr>\n",
       "    <tr>\n",
       "      <th>168</th>\n",
       "      <td>LG</td>\n",
       "      <td>0.122620</td>\n",
       "    </tr>\n",
       "  </tbody>\n",
       "</table>\n",
       "<p>169 rows × 2 columns</p>\n",
       "</div>"
      ],
      "text/plain": [
       "            Specs     Score\n",
       "0             age  0.000044\n",
       "1             sex  1.595511\n",
       "2          height  1.516540\n",
       "3          weight  0.754083\n",
       "4    qrs_duration  1.865640\n",
       "..            ...       ...\n",
       "164            LA  1.331081\n",
       "165            LD  0.167800\n",
       "166            LE  0.069402\n",
       "167            LF  0.076027\n",
       "168            LG  0.122620\n",
       "\n",
       "[169 rows x 2 columns]"
      ]
     },
     "execution_count": 45,
     "metadata": {},
     "output_type": "execute_result"
    }
   ],
   "source": [
    "featureScores"
   ]
  },
  {
   "cell_type": "code",
   "execution_count": 46,
   "metadata": {},
   "outputs": [
    {
     "name": "stdout",
     "output_type": "stream",
     "text": [
      "            Specs     Score\n",
      "94             HJ  5.379347\n",
      "59             EO  5.182913\n",
      "41             CM  4.130841\n",
      "77             GM  3.797092\n",
      "111            IG  3.561200\n",
      "21             AK  3.231444\n",
      "141            JU  3.166617\n",
      "133            JJ  2.970937\n",
      "42             CO  2.510374\n",
      "148            KD  2.249461\n",
      "69             GC  2.176662\n",
      "156            KN  2.104191\n",
      "73             GI  2.069514\n",
      "43             CY  1.981533\n",
      "57             EM  1.961736\n",
      "4    qrs_duration  1.865640\n",
      "146            KB  1.725777\n",
      "123            IV  1.652759\n",
      "1             sex  1.595511\n",
      "10              T  1.572984\n",
      "2          height  1.516540\n",
      "22             AM  1.385512\n",
      "164            LA  1.331081\n",
      "25             AY  1.276674\n",
      "71             GE  1.268382\n",
      "6    q-t_interval  1.266600\n",
      "34             BY  1.131356\n",
      "27             BB  1.080407\n",
      "138            JO  0.941446\n",
      "64             FG  0.941375\n",
      "89             HD  0.819701\n",
      "46             DB  0.816137\n",
      "3          weight  0.754083\n",
      "8      p_interval  0.688496\n",
      "79             GO  0.688492\n",
      "132            JH  0.682242\n",
      "36             CA  0.661676\n",
      "90             HF  0.636670\n",
      "134            JK  0.622730\n",
      "55             EB  0.616120\n",
      "30             BK  0.581220\n",
      "119            IR  0.575039\n",
      "47             DD  0.570860\n",
      "29             BJ  0.562035\n"
     ]
    }
   ],
   "source": [
    "print(featureScores.nlargest(44,'Score'))  "
   ]
  },
  {
   "cell_type": "code",
   "execution_count": 47,
   "metadata": {},
   "outputs": [],
   "source": [
    "#govinda govinda\n"
   ]
  },
  {
   "cell_type": "code",
   "execution_count": 48,
   "metadata": {},
   "outputs": [
    {
     "ename": "NameError",
     "evalue": "name 'y' is not defined",
     "output_type": "error",
     "traceback": [
      "\u001b[1;31m---------------------------------------------------------------------------\u001b[0m",
      "\u001b[1;31mNameError\u001b[0m                                 Traceback (most recent call last)",
      "\u001b[1;32m<ipython-input-48-79508019de67>\u001b[0m in \u001b[0;36m<module>\u001b[1;34m\u001b[0m\n\u001b[0;32m      2\u001b[0m \u001b[0mcounter\u001b[0m \u001b[1;33m=\u001b[0m \u001b[0mCounter\u001b[0m\u001b[1;33m(\u001b[0m\u001b[0my_train_df\u001b[0m\u001b[1;33m)\u001b[0m\u001b[1;33m\u001b[0m\u001b[1;33m\u001b[0m\u001b[0m\n\u001b[0;32m      3\u001b[0m \u001b[1;32mfor\u001b[0m \u001b[0mk\u001b[0m\u001b[1;33m,\u001b[0m\u001b[0mv\u001b[0m \u001b[1;32min\u001b[0m \u001b[0mcounter\u001b[0m\u001b[1;33m.\u001b[0m\u001b[0mitems\u001b[0m\u001b[1;33m(\u001b[0m\u001b[1;33m)\u001b[0m\u001b[1;33m:\u001b[0m\u001b[1;33m\u001b[0m\u001b[1;33m\u001b[0m\u001b[0m\n\u001b[1;32m----> 4\u001b[1;33m         \u001b[0mper\u001b[0m \u001b[1;33m=\u001b[0m \u001b[0mv\u001b[0m \u001b[1;33m/\u001b[0m \u001b[0mlen\u001b[0m\u001b[1;33m(\u001b[0m\u001b[0my\u001b[0m\u001b[1;33m)\u001b[0m \u001b[1;33m*\u001b[0m \u001b[1;36m100\u001b[0m\u001b[1;33m\u001b[0m\u001b[1;33m\u001b[0m\u001b[0m\n\u001b[0m\u001b[0;32m      5\u001b[0m         \u001b[0mprint\u001b[0m\u001b[1;33m(\u001b[0m\u001b[1;34m'Class=%d, Count=%d, Percentage=%.3f%%'\u001b[0m \u001b[1;33m%\u001b[0m \u001b[1;33m(\u001b[0m\u001b[0mk\u001b[0m\u001b[1;33m,\u001b[0m \u001b[0mv\u001b[0m\u001b[1;33m,\u001b[0m \u001b[0mper\u001b[0m\u001b[1;33m)\u001b[0m\u001b[1;33m)\u001b[0m\u001b[1;33m\u001b[0m\u001b[1;33m\u001b[0m\u001b[0m\n",
      "\u001b[1;31mNameError\u001b[0m: name 'y' is not defined"
     ]
    }
   ],
   "source": [
    "from collections import Counter\n",
    "counter = Counter(y_train_df)\n",
    "for k,v in counter.items():\n",
    "\tper = v / len(y) * 100\n",
    "\tprint('Class=%d, Count=%d, Percentage=%.3f%%' % (k, v, per))"
   ]
  },
  {
   "cell_type": "code",
   "execution_count": 49,
   "metadata": {},
   "outputs": [
    {
     "data": {
      "text/plain": [
       "<Figure size 1080x1440 with 0 Axes>"
      ]
     },
     "metadata": {},
     "output_type": "display_data"
    },
    {
     "data": {
      "image/png": "[encoded data removed]",
      "text/plain": [
       "<Figure size 432x288 with 182 Axes>"
      ]
     },
     "metadata": {
      "needs_background": "light"
     },
     "output_type": "display_data"
    }
   ],
   "source": [
    "from pandas import read_csv\n",
    "import matplotlib.pyplot as plt\n",
    "%matplotlib inline\n",
    "# we can use this to get the spread of variance ..but can we get the plot a bit bigger???\n",
    "# create a histogram plot of each variable\n",
    "# df.hist()\n",
    "# show the plot\n",
    "# df.figure(figsize=(15,15))\n",
    "# plt.show()\n",
    "fig = plt.figure(figsize = (15,20))\n",
    "df.hist()\n",
    "plt.show()"
   ]
  },
  {
   "cell_type": "code",
   "execution_count": 50,
   "metadata": {},
   "outputs": [],
   "source": [
    "out=df.var()"
   ]
  },
  {
   "cell_type": "code",
   "execution_count": 51,
   "metadata": {},
   "outputs": [
    {
     "data": {
      "text/plain": [
       "T               3347.577629\n",
       "qrs             2091.228215\n",
       "p-r_interval    2033.665101\n",
       "JZ              1410.706912\n",
       "height          1405.170942\n",
       "QRST            1308.278978\n",
       "t_interval      1273.497143\n",
       "KJ              1180.647101\n",
       "q-t_interval    1102.297048\n",
       "JY              1048.251681\n",
       "P                826.078563\n",
       "BN               780.048238\n",
       "CY               724.261526\n",
       "JM               712.679345\n",
       "p_interval       670.903484\n",
       "JL               667.444622\n",
       "AY               648.539564\n",
       "KI               633.929912\n",
       "BI               621.067578\n",
       "KU               595.953495\n",
       "DA               572.207675\n",
       "JB               571.511468\n",
       "CL               542.223659\n",
       "AV               535.576516\n",
       "BZ               534.188681\n",
       "BY               518.136701\n",
       "FP               498.088870\n",
       "AU               477.214976\n",
       "DK               447.551868\n",
       "AJ               445.000956\n",
       "JC               441.972869\n",
       "s_wave           423.012873\n",
       "CK               410.720029\n",
       "DD               364.616680\n",
       "LG               342.890457\n",
       "BK               342.280438\n",
       "GY               341.594423\n",
       "HI               341.108553\n",
       "r_wave           336.132674\n",
       "BB               334.416611\n",
       "DM               311.084132\n",
       "BJ               302.120595\n",
       "FD               299.413093\n",
       "BV               298.747605\n",
       "dtype: float64"
      ]
     },
     "execution_count": 51,
     "metadata": {},
     "output_type": "execute_result"
    }
   ],
   "source": [
    "out.nlargest(44)"
   ]
  },
  {
   "cell_type": "code",
   "execution_count": 52,
   "metadata": {},
   "outputs": [],
   "source": [
    "def load_dataset(full_path):\n",
    "\t# load the dataset as a numpy array\n",
    "\tdata = read_csv(full_path, header=None)\n",
    "\t# retrieve numpy array\n",
    "\tdata = data.values\n",
    "\t# split into input and output elements\n",
    "\tX, y = data[:, :-1], data[:, -1]\n",
    "\t# label encode the target variable to have the classes 0 and 1\n",
    "\ty = LabelEncoder().fit_transform(y)\n",
    "\treturn X, y"
   ]
  },
  {
   "cell_type": "code",
   "execution_count": 53,
   "metadata": {},
   "outputs": [],
   "source": [
    "def evaluate_model(X, y, model):\n",
    "\t# define evaluation procedure\n",
    "\tcv = RepeatedStratifiedKFold(n_splits=5, n_repeats=3, random_state=1)\n",
    "\t# evaluate model\n",
    "\tscores = cross_val_score(model, X, y, scoring='accuracy', cv=cv, n_jobs=-1)\n",
    "\treturn scores"
   ]
  },
  {
   "cell_type": "code",
   "execution_count": 58,
   "metadata": {},
   "outputs": [
    {
     "name": "stdout",
     "output_type": "stream",
     "text": [
      "(445, 19) (445,) Counter({0: 244, 1: 50, 5: 39, 9: 25, 4: 21, 6: 15, 7: 14, 8: 13, 12: 9, 3: 5, 2: 4, 10: 3, 11: 2, 13: 1})\n"
     ]
    }
   ],
   "source": [
    "from sklearn.preprocessing import LabelEncoder\n",
    "full_path = 'new_dataframe_3.csv'\n",
    "# load the dataset\n",
    "X, y = load_dataset(full_path)\n",
    "# summarize the loaded dataset\n",
    "print(X.shape, y.shape, Counter(y))"
   ]
  },
  {
   "cell_type": "code",
   "execution_count": 59,
   "metadata": {},
   "outputs": [],
   "source": [
    "from sklearn.dummy import DummyClassifier\n",
    "# define the reference model\n",
    "model = DummyClassifier(strategy='most_frequent')"
   ]
  },
  {
   "cell_type": "code",
   "execution_count": 60,
   "metadata": {},
   "outputs": [
    {
     "name": "stderr",
     "output_type": "stream",
     "text": [
      "c:\\users\\esettvx\\appdata\\local\\programs\\python\\python37\\lib\\site-packages\\sklearn\\model_selection\\_split.py:667: UserWarning: The least populated class in y has only 1 members, which is less than n_splits=5.\n",
      "  % (min_groups, self.n_splits)), UserWarning)\n",
      "c:\\users\\esettvx\\appdata\\local\\programs\\python\\python37\\lib\\site-packages\\sklearn\\model_selection\\_split.py:667: UserWarning: The least populated class in y has only 1 members, which is less than n_splits=5.\n",
      "  % (min_groups, self.n_splits)), UserWarning)\n",
      "c:\\users\\esettvx\\appdata\\local\\programs\\python\\python37\\lib\\site-packages\\sklearn\\model_selection\\_split.py:667: UserWarning: The least populated class in y has only 1 members, which is less than n_splits=5.\n",
      "  % (min_groups, self.n_splits)), UserWarning)\n"
     ]
    },
    {
     "name": "stdout",
     "output_type": "stream",
     "text": [
      "Mean Accuracy: 0.548 (0.004)\n"
     ]
    }
   ],
   "source": [
    "from collections import Counter\n",
    "from numpy import mean\n",
    "from numpy import std\n",
    "from pandas import read_csv\n",
    "from sklearn.preprocessing import LabelEncoder\n",
    "from sklearn.model_selection import cross_val_score\n",
    "from sklearn.model_selection import RepeatedStratifiedKFold\n",
    "from sklearn.dummy import DummyClassifier\n",
    " \n",
    "scores = evaluate_model(X, y, model)\n",
    "# summarize performance\n",
    "print('Mean Accuracy: %.3f (%.3f)' % (mean(scores), std(scores)))"
   ]
  },
  {
   "cell_type": "code",
   "execution_count": 61,
   "metadata": {},
   "outputs": [],
   "source": [
    "#This score provides a baseline on this dataset by which all other classification algorithms can be compared. Achieving a score above about 54.8 percent indicates that a model has skill on this dataset, and a score at or below this value indicates that the model does not have skill on this dataset."
   ]
  },
  {
   "cell_type": "code",
   "execution_count": 62,
   "metadata": {},
   "outputs": [],
   "source": [
    "from numpy import mean\n",
    "from numpy import std\n",
    "from pandas import read_csv\n",
    "from matplotlib import pyplot\n",
    "from sklearn.preprocessing import LabelEncoder\n",
    "from sklearn.preprocessing import OneHotEncoder\n",
    "\n",
    "from sklearn.model_selection import cross_val_score\n",
    "from sklearn.model_selection import RepeatedStratifiedKFold\n",
    "from sklearn.svm import SVC\n",
    "from sklearn.neighbors import KNeighborsClassifier\n",
    "from sklearn.ensemble import RandomForestClassifier\n",
    "from sklearn.ensemble import ExtraTreesClassifier\n",
    "from sklearn.ensemble import BaggingClassifier\n",
    " "
   ]
  },
  {
   "cell_type": "code",
   "execution_count": 63,
   "metadata": {},
   "outputs": [],
   "source": [
    "def load_dataset(full_path):\n",
    "    data = read_csv(full_path)\n",
    "    data = data.values\n",
    "    X, y = data[:, :-1], data[:, -1]\n",
    "    #onehot_encoder = OneHotEncoder()\n",
    "    #y = onehot_encoder.fit_transform(y).toarray()\n",
    "    \n",
    "    #y = OneHotEncoder().fit_transform(y)\n",
    "    #y = y.reshape(len(y), 1)\n",
    "    #y1 = onehot_encoder.fit_transform(y)\n",
    "    \n",
    "    #y.reshape(-1, 1)\n",
    "    return X, y\n",
    " \n",
    "#     from sklearn.preprocessing import OneHotEncoder\n",
    "# onehotencoder = OneHotEncoder(categorical_features = [0])\n",
    "# x = onehotencoder.fit_transform(x).toarray()\n"
   ]
  },
  {
   "cell_type": "code",
   "execution_count": 64,
   "metadata": {},
   "outputs": [],
   "source": [
    "# evaluate a model\n",
    "def evaluate_model(X, y, model):\n",
    "\t# define evaluation procedure\n",
    "\tcv = RepeatedStratifiedKFold(n_splits=5, n_repeats=3, random_state=45)\n",
    "\t# evaluate model\n",
    "\tscores = cross_val_score(model, X, y, scoring='accuracy', cv=cv, n_jobs=-1)\n",
    "\treturn scores\n",
    " \n"
   ]
  },
  {
   "cell_type": "code",
   "execution_count": 65,
   "metadata": {},
   "outputs": [],
   "source": [
    "# define models to test\n",
    "def get_models():\n",
    "\tmodels, names = list(), list()\n",
    "\t# SVM\n",
    "\tmodels.append(SVC(gamma='auto'))\n",
    "\tnames.append('SVM')\n",
    "\t# KNN\n",
    "\tmodels.append(KNeighborsClassifier())\n",
    "\tnames.append('KNN')\n",
    "\t# Bagging\n",
    "\tmodels.append(BaggingClassifier(n_estimators=1000))\n",
    "\tnames.append('BAG')\n",
    "\t# RF\n",
    "\tmodels.append(RandomForestClassifier(n_estimators=1000))\n",
    "\tnames.append('RF')\n",
    "\t# ET\n",
    "\tmodels.append(ExtraTreesClassifier(n_estimators=1000))\n",
    "\tnames.append('ET')\n",
    "\treturn models, names\n",
    " \n"
   ]
  },
  {
   "cell_type": "code",
   "execution_count": 91,
   "metadata": {
    "scrolled": false
   },
   "outputs": [
    {
     "name": "stderr",
     "output_type": "stream",
     "text": [
      "c:\\users\\esettvx\\appdata\\local\\programs\\python\\python37\\lib\\site-packages\\sklearn\\model_selection\\_split.py:667: UserWarning: The least populated class in y has only 4 members, which is less than n_splits=5.\n",
      "  % (min_groups, self.n_splits)), UserWarning)\n",
      "c:\\users\\esettvx\\appdata\\local\\programs\\python\\python37\\lib\\site-packages\\sklearn\\model_selection\\_split.py:667: UserWarning: The least populated class in y has only 4 members, which is less than n_splits=5.\n",
      "  % (min_groups, self.n_splits)), UserWarning)\n",
      "c:\\users\\esettvx\\appdata\\local\\programs\\python\\python37\\lib\\site-packages\\sklearn\\model_selection\\_split.py:667: UserWarning: The least populated class in y has only 4 members, which is less than n_splits=5.\n",
      "  % (min_groups, self.n_splits)), UserWarning)\n"
     ]
    },
    {
     "name": "stdout",
     "output_type": "stream",
     "text": [
      ">SVM 0.915 (0.019)\n",
      ">KNN 0.625 (0.014)\n"
     ]
    },
    {
     "name": "stderr",
     "output_type": "stream",
     "text": [
      "c:\\users\\esettvx\\appdata\\local\\programs\\python\\python37\\lib\\site-packages\\sklearn\\model_selection\\_split.py:667: UserWarning: The least populated class in y has only 4 members, which is less than n_splits=5.\n",
      "  % (min_groups, self.n_splits)), UserWarning)\n",
      "c:\\users\\esettvx\\appdata\\local\\programs\\python\\python37\\lib\\site-packages\\sklearn\\model_selection\\_split.py:667: UserWarning: The least populated class in y has only 4 members, which is less than n_splits=5.\n",
      "  % (min_groups, self.n_splits)), UserWarning)\n",
      "c:\\users\\esettvx\\appdata\\local\\programs\\python\\python37\\lib\\site-packages\\sklearn\\model_selection\\_split.py:667: UserWarning: The least populated class in y has only 4 members, which is less than n_splits=5.\n",
      "  % (min_groups, self.n_splits)), UserWarning)\n",
      "c:\\users\\esettvx\\appdata\\local\\programs\\python\\python37\\lib\\site-packages\\sklearn\\model_selection\\_split.py:667: UserWarning: The least populated class in y has only 4 members, which is less than n_splits=5.\n",
      "  % (min_groups, self.n_splits)), UserWarning)\n",
      "c:\\users\\esettvx\\appdata\\local\\programs\\python\\python37\\lib\\site-packages\\sklearn\\model_selection\\_split.py:667: UserWarning: The least populated class in y has only 4 members, which is less than n_splits=5.\n",
      "  % (min_groups, self.n_splits)), UserWarning)\n",
      "c:\\users\\esettvx\\appdata\\local\\programs\\python\\python37\\lib\\site-packages\\sklearn\\model_selection\\_split.py:667: UserWarning: The least populated class in y has only 4 members, which is less than n_splits=5.\n",
      "  % (min_groups, self.n_splits)), UserWarning)\n"
     ]
    },
    {
     "name": "stdout",
     "output_type": "stream",
     "text": [
      ">BAG 0.932 (0.023)\n"
     ]
    },
    {
     "name": "stderr",
     "output_type": "stream",
     "text": [
      "c:\\users\\esettvx\\appdata\\local\\programs\\python\\python37\\lib\\site-packages\\sklearn\\model_selection\\_split.py:667: UserWarning: The least populated class in y has only 4 members, which is less than n_splits=5.\n",
      "  % (min_groups, self.n_splits)), UserWarning)\n",
      "c:\\users\\esettvx\\appdata\\local\\programs\\python\\python37\\lib\\site-packages\\sklearn\\model_selection\\_split.py:667: UserWarning: The least populated class in y has only 4 members, which is less than n_splits=5.\n",
      "  % (min_groups, self.n_splits)), UserWarning)\n",
      "c:\\users\\esettvx\\appdata\\local\\programs\\python\\python37\\lib\\site-packages\\sklearn\\model_selection\\_split.py:667: UserWarning: The least populated class in y has only 4 members, which is less than n_splits=5.\n",
      "  % (min_groups, self.n_splits)), UserWarning)\n"
     ]
    },
    {
     "name": "stdout",
     "output_type": "stream",
     "text": [
      ">RF 0.936 (0.024)\n"
     ]
    },
    {
     "name": "stderr",
     "output_type": "stream",
     "text": [
      "c:\\users\\esettvx\\appdata\\local\\programs\\python\\python37\\lib\\site-packages\\sklearn\\model_selection\\_split.py:667: UserWarning: The least populated class in y has only 4 members, which is less than n_splits=5.\n",
      "  % (min_groups, self.n_splits)), UserWarning)\n",
      "c:\\users\\esettvx\\appdata\\local\\programs\\python\\python37\\lib\\site-packages\\sklearn\\model_selection\\_split.py:667: UserWarning: The least populated class in y has only 4 members, which is less than n_splits=5.\n",
      "  % (min_groups, self.n_splits)), UserWarning)\n",
      "c:\\users\\esettvx\\appdata\\local\\programs\\python\\python37\\lib\\site-packages\\sklearn\\model_selection\\_split.py:667: UserWarning: The least populated class in y has only 4 members, which is less than n_splits=5.\n",
      "  % (min_groups, self.n_splits)), UserWarning)\n"
     ]
    },
    {
     "name": "stdout",
     "output_type": "stream",
     "text": [
      ">ET 0.932 (0.024)\n"
     ]
    },
    {
     "data": {
      "image/png": "[encoded data removed]",
      "text/plain": [
       "<Figure size 432x288 with 1 Axes>"
      ]
     },
     "metadata": {
      "needs_background": "light"
     },
     "output_type": "display_data"
    }
   ],
   "source": [
    "# define the location of the dataset\n",
    "full_path = 'new_dataframe_2.csv'\n",
    "# load the dataset\n",
    "X, y = load_dataset(full_path)\n",
    "X.shape\n",
    "# define models\n",
    "models, names = get_models()\n",
    "results = list()\n",
    "# evaluate each model\n",
    "for i in range(len(models)):\n",
    "\t# evaluate the model and store results\n",
    "\tscores = evaluate_model(X, y, models[i])\n",
    "\tresults.append(scores)\n",
    "\t# summarize performance\n",
    "\tprint('>%s %.3f (%.3f)' % (names[i], mean(scores), std(scores)))\n",
    "# plot the results\n",
    "pyplot.boxplot(results, labels=names, showmeans=True)\n",
    "pyplot.show()"
   ]
  },
  {
   "cell_type": "code",
   "execution_count": 2,
   "metadata": {},
   "outputs": [],
   "source": [
    "#wow beauttttttttttttttttttttt wooowww...i ll call u now \n",
    "# explain y knn is so loww nu"
   ]
  },
  {
   "cell_type": "code",
   "execution_count": 68,
   "metadata": {},
   "outputs": [],
   "source": [
    "import pandas\n",
    "from keras.models import Sequential\n",
    "from keras.layers import Dense\n",
    "from keras.wrappers.scikit_learn import KerasClassifier\n",
    "from keras.utils import np_utils\n",
    "from sklearn.model_selection import cross_val_score\n",
    "from sklearn.model_selection import KFold\n",
    "from sklearn.preprocessing import LabelEncoder\n",
    "from sklearn.pipeline import Pipeline\n"
   ]
  },
  {
   "cell_type": "code",
   "execution_count": 69,
   "metadata": {},
   "outputs": [
    {
     "data": {
      "text/plain": [
       "(444, 17)"
      ]
     },
     "execution_count": 69,
     "metadata": {},
     "output_type": "execute_result"
    }
   ],
   "source": [
    "# load dataset\n",
    "# encode class values as integers\n",
    "# encoder = LabelEncoder()\n",
    "# encoder.fit(y)\n",
    "# encoded_Y = encoder.transform(y)\n",
    "# # convert integers to dummy variables (i.e. one hot encoded)\n",
    "dummy_y = np_utils.to_categorical(y)\n",
    " \n",
    "# dummy_y\n",
    "dummy_y.shape\n",
    "\n"
   ]
  },
  {
   "cell_type": "code",
   "execution_count": 70,
   "metadata": {},
   "outputs": [],
   "source": [
    "# define baseline model\n",
    "def baseline_model():\n",
    "    model = Sequential()\n",
    "    model.add(Dense(10, input_dim=19, activation='relu'))\n",
    "    model.add(Dense(10, activation='relu'))\n",
    "    model.add(Dense(10, activation='relu'))\n",
    "    model.add(Dense(10, activation='relu'))\n",
    "    model.add(Dense(17, activation='softmax'))\n",
    "    # Compile model\n",
    "    model.compile(loss='categorical_crossentropy', optimizer='adam', metrics=['accuracy'])\n",
    "    return model\n",
    "\n"
   ]
  },
  {
   "cell_type": "code",
   "execution_count": 71,
   "metadata": {},
   "outputs": [
    {
     "name": "stdout",
     "output_type": "stream",
     "text": [
      "WARNING:tensorflow:From c:\\users\\esettvx\\appdata\\local\\programs\\python\\python37\\lib\\site-packages\\tensorflow_core\\python\\ops\\resource_variable_ops.py:1630: calling BaseResourceVariable.__init__ (from tensorflow.python.ops.resource_variable_ops) with constraint is deprecated and will be removed in a future version.\n",
      "Instructions for updating:\n",
      "If using Keras pass *_constraint arguments to layers.\n",
      "WARNING:tensorflow:From c:\\users\\esettvx\\appdata\\local\\programs\\python\\python37\\lib\\site-packages\\keras\\backend\\tensorflow_backend.py:422: The name tf.global_variables is deprecated. Please use tf.compat.v1.global_variables instead.\n",
      "\n",
      "Baseline: 52.02% (10.24%)\n"
     ]
    }
   ],
   "source": [
    "estimator = KerasClassifier(build_fn=baseline_model, epochs=10, batch_size=32, verbose=0)\n",
    "kfold = KFold(n_splits=10, shuffle=True)\n",
    "results = cross_val_score(estimator, X, dummy_y, cv=kfold)\n",
    "print(\"Baseline: %.2f%% (%.2f%%)\" % (results.mean()*100, results.std()*100))"
   ]
  },
  {
   "cell_type": "code",
   "execution_count": 72,
   "metadata": {},
   "outputs": [
    {
     "name": "stdout",
     "output_type": "stream",
     "text": [
      "(444, 20)\n",
      "(444, 169)\n"
     ]
    }
   ],
   "source": [
    "from sklearn.datasets import make_classification\n",
    "from sklearn.feature_selection import SelectKBest\n",
    "from sklearn.feature_selection import f_classif\n",
    "# generate dataset\n",
    "X, y = make_classification(n_samples=444, n_features=169, n_informative=2)\n",
    "# define feature selection\n",
    "fs = SelectKBest(score_func=f_classif, k=20)\n",
    "# apply feature selection\n",
    "X_selected = fs.fit_transform(X, y)\n",
    "print(X_selected.shape)\n",
    "print(X.shape)"
   ]
  },
  {
   "cell_type": "code",
   "execution_count": 73,
   "metadata": {},
   "outputs": [],
   "source": [
    "import numpy as np\n",
    "import matplotlib.pyplot as plt\n",
    "\n",
    "from sklearn.datasets import make_classification\n",
    "from sklearn.ensemble import ExtraTreesClassifier\n",
    "\n",
    "# Build a classification task using 3 informative features\n",
    "X, y = make_classification(n_samples=444,\n",
    "                           n_features=20,\n",
    "                           n_informative=8,\n",
    "                           n_redundant=0,\n",
    "                           n_repeated=0,\n",
    "                           n_classes=16,\n",
    "                           random_state=0,\n",
    "                           shuffle=False)\n",
    "\n"
   ]
  },
  {
   "cell_type": "code",
   "execution_count": 74,
   "metadata": {},
   "outputs": [],
   "source": [
    "# Build a forest and compute the feature importances\n",
    "forest = ExtraTreesClassifier(n_estimators=250,\n",
    "                              random_state=0)\n",
    "\n",
    "forest.fit(X, y)\n",
    "importances = forest.feature_importances_\n",
    "std = np.std([tree.feature_importances_ for tree in forest.estimators_],\n",
    "             axis=0)\n",
    "indices = np.argsort(importances)[::-1]\n",
    "\n"
   ]
  },
  {
   "cell_type": "code",
   "execution_count": 75,
   "metadata": {},
   "outputs": [
    {
     "name": "stdout",
     "output_type": "stream",
     "text": [
      "Feature ranking:\n",
      "1. feature 6 (0.062868)\n",
      "2. feature 2 (0.062336)\n",
      "3. feature 1 (0.059490)\n",
      "4. feature 5 (0.058629)\n",
      "5. feature 4 (0.056099)\n",
      "6. feature 0 (0.055359)\n",
      "7. feature 7 (0.053616)\n",
      "8. feature 3 (0.052032)\n",
      "9. feature 9 (0.046457)\n",
      "10. feature 14 (0.045781)\n",
      "11. feature 8 (0.045440)\n",
      "12. feature 17 (0.045191)\n",
      "13. feature 13 (0.045144)\n",
      "14. feature 15 (0.045078)\n",
      "15. feature 11 (0.044811)\n",
      "16. feature 12 (0.044776)\n",
      "17. feature 18 (0.044711)\n",
      "18. feature 16 (0.044410)\n",
      "19. feature 19 (0.043920)\n",
      "20. feature 10 (0.043852)\n"
     ]
    },
    {
     "data": {
      "image/png": "[encoded data removed]",
      "text/plain": [
       "<Figure size 432x288 with 1 Axes>"
      ]
     },
     "metadata": {
      "needs_background": "light"
     },
     "output_type": "display_data"
    }
   ],
   "source": [
    "# Print the feature ranking\n",
    "print(\"Feature ranking:\")\n",
    "\n",
    "for f in range(X.shape[1]):\n",
    "    print(\"%d. feature %d (%f)\" % (f + 1, indices[f], importances[indices[f]]))\n",
    "\n",
    "# Plot the feature importances of the forest\n",
    "plt.figure()\n",
    "plt.title(\"Feature importances\")\n",
    "plt.bar(range(X.shape[1]), importances[indices],\n",
    "       color=\"r\", yerr=std[indices], align=\"center\")\n",
    "plt.xticks(range(X.shape[1]), indices)\n",
    "plt.xlim([-1, X.shape[1]])\n",
    "plt.show()"
   ]
  },
  {
   "cell_type": "code",
   "execution_count": 76,
   "metadata": {},
   "outputs": [],
   "source": [
    "import matplotlib.pyplot as plt\n",
    "from sklearn.svm import SVC\n",
    "from sklearn.model_selection import StratifiedKFold\n",
    "from sklearn.feature_selection import RFECV\n",
    "from sklearn.datasets import make_classification\n",
    "\n"
   ]
  },
  {
   "cell_type": "code",
   "execution_count": 77,
   "metadata": {},
   "outputs": [
    {
     "data": {
      "text/plain": [
       "RFECV(cv=StratifiedKFold(n_splits=2, random_state=None, shuffle=False),\n",
       "      estimator=SVC(C=1.0, break_ties=False, cache_size=200, class_weight=None,\n",
       "                    coef0=0.0, decision_function_shape='ovr', degree=3,\n",
       "                    gamma='scale', kernel='linear', max_iter=-1,\n",
       "                    probability=False, random_state=None, shrinking=True,\n",
       "                    tol=0.001, verbose=False),\n",
       "      min_features_to_select=1, n_jobs=None, scoring='accuracy', step=1,\n",
       "      verbose=0)"
      ]
     },
     "execution_count": 77,
     "metadata": {},
     "output_type": "execute_result"
    }
   ],
   "source": [
    "# Build a classification task using 3 informative features\n",
    "X, y = make_classification(n_samples=444, n_features=169, n_informative=20,\n",
    "                           n_redundant=2, n_repeated=0, n_classes=16,\n",
    "                           n_clusters_per_class=1, random_state=0)\n",
    "\n",
    "# Create the RFE object and compute a cross-validated score.\n",
    "svc = SVC(kernel=\"linear\")\n",
    "# The \"accuracy\" scoring is proportional to the number of correct\n",
    "# classifications\n",
    "rfecv = RFECV(estimator=svc, step=1, cv=StratifiedKFold(2),\n",
    "              scoring='accuracy')\n",
    "rfecv.fit(X, y)\n",
    "\n"
   ]
  },
  {
   "cell_type": "code",
   "execution_count": 78,
   "metadata": {},
   "outputs": [
    {
     "name": "stdout",
     "output_type": "stream",
     "text": [
      "Optimal number of features : 25\n"
     ]
    },
    {
     "data": {
      "image/png": "[encoded data removed]",
      "text/plain": [
       "<Figure size 432x288 with 1 Axes>"
      ]
     },
     "metadata": {
      "needs_background": "light"
     },
     "output_type": "display_data"
    }
   ],
   "source": [
    "print(\"Optimal number of features : %d\" % rfecv.n_features_)\n",
    "\n",
    "# Plot number of features VS. cross-validation scores\n",
    "plt.figure()\n",
    "plt.xlabel(\"Number of features selected\")\n",
    "plt.ylabel(\"Cross validation score (nb of correct classifications)\")\n",
    "plt.plot(range(1, len(rfecv.grid_scores_) + 1), rfecv.grid_scores_)\n",
    "plt.show()"
   ]
  },
  {
   "cell_type": "code",
   "execution_count": 79,
   "metadata": {},
   "outputs": [
    {
     "name": "stdout",
     "output_type": "stream",
     "text": [
      "Mean Accuracy: 0.068 (0.000)\n"
     ]
    }
   ],
   "source": [
    "from collections import Counter\n",
    "from numpy import mean\n",
    "from numpy import std\n",
    "from pandas import read_csv\n",
    "from sklearn.preprocessing import LabelEncoder\n",
    "from sklearn.model_selection import cross_val_score\n",
    "from sklearn.model_selection import RepeatedStratifiedKFold\n",
    "from sklearn.dummy import DummyClassifier\n",
    " \n",
    "scores = evaluate_model(X_selected, y, model)\n",
    "# summarize performance\n",
    "print('Mean Accuracy: %.3f (%.3f)' % (mean(scores), std(scores)))"
   ]
  },
  {
   "cell_type": "code",
   "execution_count": 80,
   "metadata": {},
   "outputs": [],
   "source": [
    "scores = evaluate_model(X_selected, y, model)"
   ]
  },
  {
   "cell_type": "code",
   "execution_count": 81,
   "metadata": {},
   "outputs": [
    {
     "name": "stdout",
     "output_type": "stream",
     "text": [
      "Mean Accuracy: 0.068 (0.000)\n"
     ]
    }
   ],
   "source": [
    "print('Mean Accuracy: %.3f (%.3f)' % (mean(scores), std(scores)))"
   ]
  },
  {
   "cell_type": "code",
   "execution_count": 82,
   "metadata": {},
   "outputs": [],
   "source": [
    "importances = forest.feature_importances_"
   ]
  },
  {
   "cell_type": "code",
   "execution_count": 83,
   "metadata": {},
   "outputs": [
    {
     "name": "stdout",
     "output_type": "stream",
     "text": [
      "[0.00581526 0.00543954 0.00795334 0.00463433 0.00567666 0.00540561\n",
      " 0.00864243 0.00511775 0.00485121 0.0089426  0.00536864 0.00492592\n",
      " 0.00482571 0.00633345 0.00594038 0.00636983 0.00573005 0.00506087\n",
      " 0.00493184 0.00588304 0.00539723 0.00626545 0.0057354  0.00546497\n",
      " 0.00562279 0.00597839 0.00791065 0.0059301  0.00569017 0.00537159\n",
      " 0.00428297 0.00548192 0.00501902 0.00607196 0.00504083 0.00485726\n",
      " 0.00599596 0.0050342  0.00520985 0.00506547 0.00608979 0.00434954\n",
      " 0.00895771 0.00556911 0.00572178 0.00533428 0.00523514 0.00546478\n",
      " 0.00612721 0.00503269 0.00880704 0.0044855  0.0047612  0.00933495\n",
      " 0.00515885 0.00682266 0.00522148 0.00588078 0.00446136 0.00506208\n",
      " 0.00663633 0.00545038 0.00516185 0.00549298 0.00679894 0.00615999\n",
      " 0.00525955 0.00580194 0.00547098 0.00560442 0.00586688 0.00598872\n",
      " 0.00525634 0.00549295 0.00538668 0.00557956 0.00629029 0.00449864\n",
      " 0.00576003 0.00503082 0.01042537 0.00584006 0.00587937 0.00567183\n",
      " 0.00618858 0.00514338 0.00582753 0.00558591 0.0053144  0.00520679\n",
      " 0.00504686 0.00813101 0.00614313 0.00518836 0.00541999 0.00573056\n",
      " 0.00610588 0.00512875 0.00544471 0.00536294 0.00628544 0.00916442\n",
      " 0.00580684 0.00592929 0.00585617 0.00551786 0.00511835 0.00619431\n",
      " 0.00615407 0.00552188 0.0059466  0.00876364 0.00586394 0.00617734\n",
      " 0.00866443 0.00608215 0.00873464 0.00484951 0.0063104  0.00912139\n",
      " 0.00452878 0.00619391 0.00580149 0.00491211 0.00500918 0.00586442\n",
      " 0.00555029 0.00662208 0.00594017 0.00510135 0.00601008 0.00764523\n",
      " 0.00670899 0.00516981 0.00600171 0.00562206 0.0050698  0.00577884\n",
      " 0.00635794 0.01059224 0.00538487 0.00559911 0.00493247 0.00805597\n",
      " 0.00593967 0.00598512 0.00550032 0.00525599 0.00508768 0.00497062\n",
      " 0.00810251 0.00654525 0.0055564  0.00482472 0.0062485  0.00574069\n",
      " 0.00523632 0.00526278 0.00542107 0.0053753  0.00634924 0.00583471\n",
      " 0.00532107 0.00559561 0.00436068 0.0058263  0.00557492 0.00544751\n",
      " 0.00919519]\n"
     ]
    }
   ],
   "source": [
    "from sklearn import datasets\n",
    "from sklearn import metrics\n",
    "from sklearn.ensemble import ExtraTreesClassifier\n",
    "# load the iris datasets\n",
    "dataset = datasets.load_iris()\n",
    "# fit an Extra Trees model to the data\n",
    "model = ExtraTreesClassifier()\n",
    "model.fit(X, y)\n",
    "# display the relative importance of each attribute\n",
    "print(model.feature_importances_)"
   ]
  },
  {
   "cell_type": "code",
   "execution_count": 84,
   "metadata": {},
   "outputs": [
    {
     "name": "stderr",
     "output_type": "stream",
     "text": [
      "c:\\users\\esettvx\\appdata\\local\\programs\\python\\python37\\lib\\site-packages\\sklearn\\linear_model\\_logistic.py:940: ConvergenceWarning: lbfgs failed to converge (status=1):\n",
      "STOP: TOTAL NO. of ITERATIONS REACHED LIMIT.\n",
      "\n",
      "Increase the number of iterations (max_iter) or scale the data as shown in:\n",
      "    https://scikit-learn.org/stable/modules/preprocessing.html\n",
      "Please also refer to the documentation for alternative solver options:\n",
      "    https://scikit-learn.org/stable/modules/linear_model.html#logistic-regression\n",
      "  extra_warning_msg=_LOGISTIC_SOLVER_CONVERGENCE_MSG)\n",
      "c:\\users\\esettvx\\appdata\\local\\programs\\python\\python37\\lib\\site-packages\\sklearn\\linear_model\\_logistic.py:940: ConvergenceWarning: lbfgs failed to converge (status=1):\n",
      "STOP: TOTAL NO. of ITERATIONS REACHED LIMIT.\n",
      "\n",
      "Increase the number of iterations (max_iter) or scale the data as shown in:\n",
      "    https://scikit-learn.org/stable/modules/preprocessing.html\n",
      "Please also refer to the documentation for alternative solver options:\n",
      "    https://scikit-learn.org/stable/modules/linear_model.html#logistic-regression\n",
      "  extra_warning_msg=_LOGISTIC_SOLVER_CONVERGENCE_MSG)\n",
      "c:\\users\\esettvx\\appdata\\local\\programs\\python\\python37\\lib\\site-packages\\sklearn\\linear_model\\_logistic.py:940: ConvergenceWarning: lbfgs failed to converge (status=1):\n",
      "STOP: TOTAL NO. of ITERATIONS REACHED LIMIT.\n",
      "\n",
      "Increase the number of iterations (max_iter) or scale the data as shown in:\n",
      "    https://scikit-learn.org/stable/modules/preprocessing.html\n",
      "Please also refer to the documentation for alternative solver options:\n",
      "    https://scikit-learn.org/stable/modules/linear_model.html#logistic-regression\n",
      "  extra_warning_msg=_LOGISTIC_SOLVER_CONVERGENCE_MSG)\n",
      "c:\\users\\esettvx\\appdata\\local\\programs\\python\\python37\\lib\\site-packages\\sklearn\\linear_model\\_logistic.py:940: ConvergenceWarning: lbfgs failed to converge (status=1):\n",
      "STOP: TOTAL NO. of ITERATIONS REACHED LIMIT.\n",
      "\n",
      "Increase the number of iterations (max_iter) or scale the data as shown in:\n",
      "    https://scikit-learn.org/stable/modules/preprocessing.html\n",
      "Please also refer to the documentation for alternative solver options:\n",
      "    https://scikit-learn.org/stable/modules/linear_model.html#logistic-regression\n",
      "  extra_warning_msg=_LOGISTIC_SOLVER_CONVERGENCE_MSG)\n",
      "c:\\users\\esettvx\\appdata\\local\\programs\\python\\python37\\lib\\site-packages\\sklearn\\linear_model\\_logistic.py:940: ConvergenceWarning: lbfgs failed to converge (status=1):\n",
      "STOP: TOTAL NO. of ITERATIONS REACHED LIMIT.\n",
      "\n",
      "Increase the number of iterations (max_iter) or scale the data as shown in:\n",
      "    https://scikit-learn.org/stable/modules/preprocessing.html\n",
      "Please also refer to the documentation for alternative solver options:\n",
      "    https://scikit-learn.org/stable/modules/linear_model.html#logistic-regression\n",
      "  extra_warning_msg=_LOGISTIC_SOLVER_CONVERGENCE_MSG)\n",
      "c:\\users\\esettvx\\appdata\\local\\programs\\python\\python37\\lib\\site-packages\\sklearn\\linear_model\\_logistic.py:940: ConvergenceWarning: lbfgs failed to converge (status=1):\n",
      "STOP: TOTAL NO. of ITERATIONS REACHED LIMIT.\n",
      "\n",
      "Increase the number of iterations (max_iter) or scale the data as shown in:\n",
      "    https://scikit-learn.org/stable/modules/preprocessing.html\n",
      "Please also refer to the documentation for alternative solver options:\n",
      "    https://scikit-learn.org/stable/modules/linear_model.html#logistic-regression\n",
      "  extra_warning_msg=_LOGISTIC_SOLVER_CONVERGENCE_MSG)\n",
      "c:\\users\\esettvx\\appdata\\local\\programs\\python\\python37\\lib\\site-packages\\sklearn\\linear_model\\_logistic.py:940: ConvergenceWarning: lbfgs failed to converge (status=1):\n",
      "STOP: TOTAL NO. of ITERATIONS REACHED LIMIT.\n",
      "\n",
      "Increase the number of iterations (max_iter) or scale the data as shown in:\n",
      "    https://scikit-learn.org/stable/modules/preprocessing.html\n",
      "Please also refer to the documentation for alternative solver options:\n",
      "    https://scikit-learn.org/stable/modules/linear_model.html#logistic-regression\n",
      "  extra_warning_msg=_LOGISTIC_SOLVER_CONVERGENCE_MSG)\n",
      "c:\\users\\esettvx\\appdata\\local\\programs\\python\\python37\\lib\\site-packages\\sklearn\\linear_model\\_logistic.py:940: ConvergenceWarning: lbfgs failed to converge (status=1):\n",
      "STOP: TOTAL NO. of ITERATIONS REACHED LIMIT.\n",
      "\n",
      "Increase the number of iterations (max_iter) or scale the data as shown in:\n",
      "    https://scikit-learn.org/stable/modules/preprocessing.html\n",
      "Please also refer to the documentation for alternative solver options:\n",
      "    https://scikit-learn.org/stable/modules/linear_model.html#logistic-regression\n",
      "  extra_warning_msg=_LOGISTIC_SOLVER_CONVERGENCE_MSG)\n",
      "c:\\users\\esettvx\\appdata\\local\\programs\\python\\python37\\lib\\site-packages\\sklearn\\linear_model\\_logistic.py:940: ConvergenceWarning: lbfgs failed to converge (status=1):\n",
      "STOP: TOTAL NO. of ITERATIONS REACHED LIMIT.\n",
      "\n",
      "Increase the number of iterations (max_iter) or scale the data as shown in:\n",
      "    https://scikit-learn.org/stable/modules/preprocessing.html\n",
      "Please also refer to the documentation for alternative solver options:\n",
      "    https://scikit-learn.org/stable/modules/linear_model.html#logistic-regression\n",
      "  extra_warning_msg=_LOGISTIC_SOLVER_CONVERGENCE_MSG)\n",
      "c:\\users\\esettvx\\appdata\\local\\programs\\python\\python37\\lib\\site-packages\\sklearn\\linear_model\\_logistic.py:940: ConvergenceWarning: lbfgs failed to converge (status=1):\n",
      "STOP: TOTAL NO. of ITERATIONS REACHED LIMIT.\n",
      "\n",
      "Increase the number of iterations (max_iter) or scale the data as shown in:\n",
      "    https://scikit-learn.org/stable/modules/preprocessing.html\n",
      "Please also refer to the documentation for alternative solver options:\n",
      "    https://scikit-learn.org/stable/modules/linear_model.html#logistic-regression\n",
      "  extra_warning_msg=_LOGISTIC_SOLVER_CONVERGENCE_MSG)\n",
      "c:\\users\\esettvx\\appdata\\local\\programs\\python\\python37\\lib\\site-packages\\sklearn\\linear_model\\_logistic.py:940: ConvergenceWarning: lbfgs failed to converge (status=1):\n",
      "STOP: TOTAL NO. of ITERATIONS REACHED LIMIT.\n",
      "\n",
      "Increase the number of iterations (max_iter) or scale the data as shown in:\n",
      "    https://scikit-learn.org/stable/modules/preprocessing.html\n",
      "Please also refer to the documentation for alternative solver options:\n",
      "    https://scikit-learn.org/stable/modules/linear_model.html#logistic-regression\n",
      "  extra_warning_msg=_LOGISTIC_SOLVER_CONVERGENCE_MSG)\n",
      "c:\\users\\esettvx\\appdata\\local\\programs\\python\\python37\\lib\\site-packages\\sklearn\\linear_model\\_logistic.py:940: ConvergenceWarning: lbfgs failed to converge (status=1):\n",
      "STOP: TOTAL NO. of ITERATIONS REACHED LIMIT.\n",
      "\n",
      "Increase the number of iterations (max_iter) or scale the data as shown in:\n",
      "    https://scikit-learn.org/stable/modules/preprocessing.html\n",
      "Please also refer to the documentation for alternative solver options:\n",
      "    https://scikit-learn.org/stable/modules/linear_model.html#logistic-regression\n",
      "  extra_warning_msg=_LOGISTIC_SOLVER_CONVERGENCE_MSG)\n",
      "c:\\users\\esettvx\\appdata\\local\\programs\\python\\python37\\lib\\site-packages\\sklearn\\linear_model\\_logistic.py:940: ConvergenceWarning: lbfgs failed to converge (status=1):\n",
      "STOP: TOTAL NO. of ITERATIONS REACHED LIMIT.\n",
      "\n",
      "Increase the number of iterations (max_iter) or scale the data as shown in:\n",
      "    https://scikit-learn.org/stable/modules/preprocessing.html\n",
      "Please also refer to the documentation for alternative solver options:\n",
      "    https://scikit-learn.org/stable/modules/linear_model.html#logistic-regression\n",
      "  extra_warning_msg=_LOGISTIC_SOLVER_CONVERGENCE_MSG)\n",
      "c:\\users\\esettvx\\appdata\\local\\programs\\python\\python37\\lib\\site-packages\\sklearn\\linear_model\\_logistic.py:940: ConvergenceWarning: lbfgs failed to converge (status=1):\n",
      "STOP: TOTAL NO. of ITERATIONS REACHED LIMIT.\n",
      "\n",
      "Increase the number of iterations (max_iter) or scale the data as shown in:\n",
      "    https://scikit-learn.org/stable/modules/preprocessing.html\n",
      "Please also refer to the documentation for alternative solver options:\n",
      "    https://scikit-learn.org/stable/modules/linear_model.html#logistic-regression\n",
      "  extra_warning_msg=_LOGISTIC_SOLVER_CONVERGENCE_MSG)\n",
      "c:\\users\\esettvx\\appdata\\local\\programs\\python\\python37\\lib\\site-packages\\sklearn\\linear_model\\_logistic.py:940: ConvergenceWarning: lbfgs failed to converge (status=1):\n",
      "STOP: TOTAL NO. of ITERATIONS REACHED LIMIT.\n",
      "\n",
      "Increase the number of iterations (max_iter) or scale the data as shown in:\n",
      "    https://scikit-learn.org/stable/modules/preprocessing.html\n",
      "Please also refer to the documentation for alternative solver options:\n",
      "    https://scikit-learn.org/stable/modules/linear_model.html#logistic-regression\n",
      "  extra_warning_msg=_LOGISTIC_SOLVER_CONVERGENCE_MSG)\n",
      "c:\\users\\esettvx\\appdata\\local\\programs\\python\\python37\\lib\\site-packages\\sklearn\\linear_model\\_logistic.py:940: ConvergenceWarning: lbfgs failed to converge (status=1):\n",
      "STOP: TOTAL NO. of ITERATIONS REACHED LIMIT.\n",
      "\n",
      "Increase the number of iterations (max_iter) or scale the data as shown in:\n",
      "    https://scikit-learn.org/stable/modules/preprocessing.html\n",
      "Please also refer to the documentation for alternative solver options:\n",
      "    https://scikit-learn.org/stable/modules/linear_model.html#logistic-regression\n",
      "  extra_warning_msg=_LOGISTIC_SOLVER_CONVERGENCE_MSG)\n"
     ]
    },
    {
     "name": "stderr",
     "output_type": "stream",
     "text": [
      "c:\\users\\esettvx\\appdata\\local\\programs\\python\\python37\\lib\\site-packages\\sklearn\\linear_model\\_logistic.py:940: ConvergenceWarning: lbfgs failed to converge (status=1):\n",
      "STOP: TOTAL NO. of ITERATIONS REACHED LIMIT.\n",
      "\n",
      "Increase the number of iterations (max_iter) or scale the data as shown in:\n",
      "    https://scikit-learn.org/stable/modules/preprocessing.html\n",
      "Please also refer to the documentation for alternative solver options:\n",
      "    https://scikit-learn.org/stable/modules/linear_model.html#logistic-regression\n",
      "  extra_warning_msg=_LOGISTIC_SOLVER_CONVERGENCE_MSG)\n",
      "c:\\users\\esettvx\\appdata\\local\\programs\\python\\python37\\lib\\site-packages\\sklearn\\linear_model\\_logistic.py:940: ConvergenceWarning: lbfgs failed to converge (status=1):\n",
      "STOP: TOTAL NO. of ITERATIONS REACHED LIMIT.\n",
      "\n",
      "Increase the number of iterations (max_iter) or scale the data as shown in:\n",
      "    https://scikit-learn.org/stable/modules/preprocessing.html\n",
      "Please also refer to the documentation for alternative solver options:\n",
      "    https://scikit-learn.org/stable/modules/linear_model.html#logistic-regression\n",
      "  extra_warning_msg=_LOGISTIC_SOLVER_CONVERGENCE_MSG)\n",
      "c:\\users\\esettvx\\appdata\\local\\programs\\python\\python37\\lib\\site-packages\\sklearn\\linear_model\\_logistic.py:940: ConvergenceWarning: lbfgs failed to converge (status=1):\n",
      "STOP: TOTAL NO. of ITERATIONS REACHED LIMIT.\n",
      "\n",
      "Increase the number of iterations (max_iter) or scale the data as shown in:\n",
      "    https://scikit-learn.org/stable/modules/preprocessing.html\n",
      "Please also refer to the documentation for alternative solver options:\n",
      "    https://scikit-learn.org/stable/modules/linear_model.html#logistic-regression\n",
      "  extra_warning_msg=_LOGISTIC_SOLVER_CONVERGENCE_MSG)\n",
      "c:\\users\\esettvx\\appdata\\local\\programs\\python\\python37\\lib\\site-packages\\sklearn\\linear_model\\_logistic.py:940: ConvergenceWarning: lbfgs failed to converge (status=1):\n",
      "STOP: TOTAL NO. of ITERATIONS REACHED LIMIT.\n",
      "\n",
      "Increase the number of iterations (max_iter) or scale the data as shown in:\n",
      "    https://scikit-learn.org/stable/modules/preprocessing.html\n",
      "Please also refer to the documentation for alternative solver options:\n",
      "    https://scikit-learn.org/stable/modules/linear_model.html#logistic-regression\n",
      "  extra_warning_msg=_LOGISTIC_SOLVER_CONVERGENCE_MSG)\n",
      "c:\\users\\esettvx\\appdata\\local\\programs\\python\\python37\\lib\\site-packages\\sklearn\\linear_model\\_logistic.py:940: ConvergenceWarning: lbfgs failed to converge (status=1):\n",
      "STOP: TOTAL NO. of ITERATIONS REACHED LIMIT.\n",
      "\n",
      "Increase the number of iterations (max_iter) or scale the data as shown in:\n",
      "    https://scikit-learn.org/stable/modules/preprocessing.html\n",
      "Please also refer to the documentation for alternative solver options:\n",
      "    https://scikit-learn.org/stable/modules/linear_model.html#logistic-regression\n",
      "  extra_warning_msg=_LOGISTIC_SOLVER_CONVERGENCE_MSG)\n",
      "c:\\users\\esettvx\\appdata\\local\\programs\\python\\python37\\lib\\site-packages\\sklearn\\linear_model\\_logistic.py:940: ConvergenceWarning: lbfgs failed to converge (status=1):\n",
      "STOP: TOTAL NO. of ITERATIONS REACHED LIMIT.\n",
      "\n",
      "Increase the number of iterations (max_iter) or scale the data as shown in:\n",
      "    https://scikit-learn.org/stable/modules/preprocessing.html\n",
      "Please also refer to the documentation for alternative solver options:\n",
      "    https://scikit-learn.org/stable/modules/linear_model.html#logistic-regression\n",
      "  extra_warning_msg=_LOGISTIC_SOLVER_CONVERGENCE_MSG)\n",
      "c:\\users\\esettvx\\appdata\\local\\programs\\python\\python37\\lib\\site-packages\\sklearn\\linear_model\\_logistic.py:940: ConvergenceWarning: lbfgs failed to converge (status=1):\n",
      "STOP: TOTAL NO. of ITERATIONS REACHED LIMIT.\n",
      "\n",
      "Increase the number of iterations (max_iter) or scale the data as shown in:\n",
      "    https://scikit-learn.org/stable/modules/preprocessing.html\n",
      "Please also refer to the documentation for alternative solver options:\n",
      "    https://scikit-learn.org/stable/modules/linear_model.html#logistic-regression\n",
      "  extra_warning_msg=_LOGISTIC_SOLVER_CONVERGENCE_MSG)\n",
      "c:\\users\\esettvx\\appdata\\local\\programs\\python\\python37\\lib\\site-packages\\sklearn\\linear_model\\_logistic.py:940: ConvergenceWarning: lbfgs failed to converge (status=1):\n",
      "STOP: TOTAL NO. of ITERATIONS REACHED LIMIT.\n",
      "\n",
      "Increase the number of iterations (max_iter) or scale the data as shown in:\n",
      "    https://scikit-learn.org/stable/modules/preprocessing.html\n",
      "Please also refer to the documentation for alternative solver options:\n",
      "    https://scikit-learn.org/stable/modules/linear_model.html#logistic-regression\n",
      "  extra_warning_msg=_LOGISTIC_SOLVER_CONVERGENCE_MSG)\n",
      "c:\\users\\esettvx\\appdata\\local\\programs\\python\\python37\\lib\\site-packages\\sklearn\\linear_model\\_logistic.py:940: ConvergenceWarning: lbfgs failed to converge (status=1):\n",
      "STOP: TOTAL NO. of ITERATIONS REACHED LIMIT.\n",
      "\n",
      "Increase the number of iterations (max_iter) or scale the data as shown in:\n",
      "    https://scikit-learn.org/stable/modules/preprocessing.html\n",
      "Please also refer to the documentation for alternative solver options:\n",
      "    https://scikit-learn.org/stable/modules/linear_model.html#logistic-regression\n",
      "  extra_warning_msg=_LOGISTIC_SOLVER_CONVERGENCE_MSG)\n",
      "c:\\users\\esettvx\\appdata\\local\\programs\\python\\python37\\lib\\site-packages\\sklearn\\linear_model\\_logistic.py:940: ConvergenceWarning: lbfgs failed to converge (status=1):\n",
      "STOP: TOTAL NO. of ITERATIONS REACHED LIMIT.\n",
      "\n",
      "Increase the number of iterations (max_iter) or scale the data as shown in:\n",
      "    https://scikit-learn.org/stable/modules/preprocessing.html\n",
      "Please also refer to the documentation for alternative solver options:\n",
      "    https://scikit-learn.org/stable/modules/linear_model.html#logistic-regression\n",
      "  extra_warning_msg=_LOGISTIC_SOLVER_CONVERGENCE_MSG)\n",
      "c:\\users\\esettvx\\appdata\\local\\programs\\python\\python37\\lib\\site-packages\\sklearn\\linear_model\\_logistic.py:940: ConvergenceWarning: lbfgs failed to converge (status=1):\n",
      "STOP: TOTAL NO. of ITERATIONS REACHED LIMIT.\n",
      "\n",
      "Increase the number of iterations (max_iter) or scale the data as shown in:\n",
      "    https://scikit-learn.org/stable/modules/preprocessing.html\n",
      "Please also refer to the documentation for alternative solver options:\n",
      "    https://scikit-learn.org/stable/modules/linear_model.html#logistic-regression\n",
      "  extra_warning_msg=_LOGISTIC_SOLVER_CONVERGENCE_MSG)\n",
      "c:\\users\\esettvx\\appdata\\local\\programs\\python\\python37\\lib\\site-packages\\sklearn\\linear_model\\_logistic.py:940: ConvergenceWarning: lbfgs failed to converge (status=1):\n",
      "STOP: TOTAL NO. of ITERATIONS REACHED LIMIT.\n",
      "\n",
      "Increase the number of iterations (max_iter) or scale the data as shown in:\n",
      "    https://scikit-learn.org/stable/modules/preprocessing.html\n",
      "Please also refer to the documentation for alternative solver options:\n",
      "    https://scikit-learn.org/stable/modules/linear_model.html#logistic-regression\n",
      "  extra_warning_msg=_LOGISTIC_SOLVER_CONVERGENCE_MSG)\n",
      "c:\\users\\esettvx\\appdata\\local\\programs\\python\\python37\\lib\\site-packages\\sklearn\\linear_model\\_logistic.py:940: ConvergenceWarning: lbfgs failed to converge (status=1):\n",
      "STOP: TOTAL NO. of ITERATIONS REACHED LIMIT.\n",
      "\n",
      "Increase the number of iterations (max_iter) or scale the data as shown in:\n",
      "    https://scikit-learn.org/stable/modules/preprocessing.html\n",
      "Please also refer to the documentation for alternative solver options:\n",
      "    https://scikit-learn.org/stable/modules/linear_model.html#logistic-regression\n",
      "  extra_warning_msg=_LOGISTIC_SOLVER_CONVERGENCE_MSG)\n",
      "c:\\users\\esettvx\\appdata\\local\\programs\\python\\python37\\lib\\site-packages\\sklearn\\linear_model\\_logistic.py:940: ConvergenceWarning: lbfgs failed to converge (status=1):\n",
      "STOP: TOTAL NO. of ITERATIONS REACHED LIMIT.\n",
      "\n",
      "Increase the number of iterations (max_iter) or scale the data as shown in:\n",
      "    https://scikit-learn.org/stable/modules/preprocessing.html\n",
      "Please also refer to the documentation for alternative solver options:\n",
      "    https://scikit-learn.org/stable/modules/linear_model.html#logistic-regression\n",
      "  extra_warning_msg=_LOGISTIC_SOLVER_CONVERGENCE_MSG)\n",
      "c:\\users\\esettvx\\appdata\\local\\programs\\python\\python37\\lib\\site-packages\\sklearn\\linear_model\\_logistic.py:940: ConvergenceWarning: lbfgs failed to converge (status=1):\n",
      "STOP: TOTAL NO. of ITERATIONS REACHED LIMIT.\n",
      "\n",
      "Increase the number of iterations (max_iter) or scale the data as shown in:\n",
      "    https://scikit-learn.org/stable/modules/preprocessing.html\n",
      "Please also refer to the documentation for alternative solver options:\n",
      "    https://scikit-learn.org/stable/modules/linear_model.html#logistic-regression\n",
      "  extra_warning_msg=_LOGISTIC_SOLVER_CONVERGENCE_MSG)\n",
      "c:\\users\\esettvx\\appdata\\local\\programs\\python\\python37\\lib\\site-packages\\sklearn\\linear_model\\_logistic.py:940: ConvergenceWarning: lbfgs failed to converge (status=1):\n",
      "STOP: TOTAL NO. of ITERATIONS REACHED LIMIT.\n",
      "\n",
      "Increase the number of iterations (max_iter) or scale the data as shown in:\n",
      "    https://scikit-learn.org/stable/modules/preprocessing.html\n",
      "Please also refer to the documentation for alternative solver options:\n",
      "    https://scikit-learn.org/stable/modules/linear_model.html#logistic-regression\n",
      "  extra_warning_msg=_LOGISTIC_SOLVER_CONVERGENCE_MSG)\n",
      "c:\\users\\esettvx\\appdata\\local\\programs\\python\\python37\\lib\\site-packages\\sklearn\\linear_model\\_logistic.py:940: ConvergenceWarning: lbfgs failed to converge (status=1):\n",
      "STOP: TOTAL NO. of ITERATIONS REACHED LIMIT.\n",
      "\n",
      "Increase the number of iterations (max_iter) or scale the data as shown in:\n",
      "    https://scikit-learn.org/stable/modules/preprocessing.html\n",
      "Please also refer to the documentation for alternative solver options:\n",
      "    https://scikit-learn.org/stable/modules/linear_model.html#logistic-regression\n",
      "  extra_warning_msg=_LOGISTIC_SOLVER_CONVERGENCE_MSG)\n"
     ]
    },
    {
     "name": "stderr",
     "output_type": "stream",
     "text": [
      "c:\\users\\esettvx\\appdata\\local\\programs\\python\\python37\\lib\\site-packages\\sklearn\\linear_model\\_logistic.py:940: ConvergenceWarning: lbfgs failed to converge (status=1):\n",
      "STOP: TOTAL NO. of ITERATIONS REACHED LIMIT.\n",
      "\n",
      "Increase the number of iterations (max_iter) or scale the data as shown in:\n",
      "    https://scikit-learn.org/stable/modules/preprocessing.html\n",
      "Please also refer to the documentation for alternative solver options:\n",
      "    https://scikit-learn.org/stable/modules/linear_model.html#logistic-regression\n",
      "  extra_warning_msg=_LOGISTIC_SOLVER_CONVERGENCE_MSG)\n",
      "c:\\users\\esettvx\\appdata\\local\\programs\\python\\python37\\lib\\site-packages\\sklearn\\linear_model\\_logistic.py:940: ConvergenceWarning: lbfgs failed to converge (status=1):\n",
      "STOP: TOTAL NO. of ITERATIONS REACHED LIMIT.\n",
      "\n",
      "Increase the number of iterations (max_iter) or scale the data as shown in:\n",
      "    https://scikit-learn.org/stable/modules/preprocessing.html\n",
      "Please also refer to the documentation for alternative solver options:\n",
      "    https://scikit-learn.org/stable/modules/linear_model.html#logistic-regression\n",
      "  extra_warning_msg=_LOGISTIC_SOLVER_CONVERGENCE_MSG)\n",
      "c:\\users\\esettvx\\appdata\\local\\programs\\python\\python37\\lib\\site-packages\\sklearn\\linear_model\\_logistic.py:940: ConvergenceWarning: lbfgs failed to converge (status=1):\n",
      "STOP: TOTAL NO. of ITERATIONS REACHED LIMIT.\n",
      "\n",
      "Increase the number of iterations (max_iter) or scale the data as shown in:\n",
      "    https://scikit-learn.org/stable/modules/preprocessing.html\n",
      "Please also refer to the documentation for alternative solver options:\n",
      "    https://scikit-learn.org/stable/modules/linear_model.html#logistic-regression\n",
      "  extra_warning_msg=_LOGISTIC_SOLVER_CONVERGENCE_MSG)\n",
      "c:\\users\\esettvx\\appdata\\local\\programs\\python\\python37\\lib\\site-packages\\sklearn\\linear_model\\_logistic.py:940: ConvergenceWarning: lbfgs failed to converge (status=1):\n",
      "STOP: TOTAL NO. of ITERATIONS REACHED LIMIT.\n",
      "\n",
      "Increase the number of iterations (max_iter) or scale the data as shown in:\n",
      "    https://scikit-learn.org/stable/modules/preprocessing.html\n",
      "Please also refer to the documentation for alternative solver options:\n",
      "    https://scikit-learn.org/stable/modules/linear_model.html#logistic-regression\n",
      "  extra_warning_msg=_LOGISTIC_SOLVER_CONVERGENCE_MSG)\n",
      "c:\\users\\esettvx\\appdata\\local\\programs\\python\\python37\\lib\\site-packages\\sklearn\\linear_model\\_logistic.py:940: ConvergenceWarning: lbfgs failed to converge (status=1):\n",
      "STOP: TOTAL NO. of ITERATIONS REACHED LIMIT.\n",
      "\n",
      "Increase the number of iterations (max_iter) or scale the data as shown in:\n",
      "    https://scikit-learn.org/stable/modules/preprocessing.html\n",
      "Please also refer to the documentation for alternative solver options:\n",
      "    https://scikit-learn.org/stable/modules/linear_model.html#logistic-regression\n",
      "  extra_warning_msg=_LOGISTIC_SOLVER_CONVERGENCE_MSG)\n",
      "c:\\users\\esettvx\\appdata\\local\\programs\\python\\python37\\lib\\site-packages\\sklearn\\linear_model\\_logistic.py:940: ConvergenceWarning: lbfgs failed to converge (status=1):\n",
      "STOP: TOTAL NO. of ITERATIONS REACHED LIMIT.\n",
      "\n",
      "Increase the number of iterations (max_iter) or scale the data as shown in:\n",
      "    https://scikit-learn.org/stable/modules/preprocessing.html\n",
      "Please also refer to the documentation for alternative solver options:\n",
      "    https://scikit-learn.org/stable/modules/linear_model.html#logistic-regression\n",
      "  extra_warning_msg=_LOGISTIC_SOLVER_CONVERGENCE_MSG)\n",
      "c:\\users\\esettvx\\appdata\\local\\programs\\python\\python37\\lib\\site-packages\\sklearn\\linear_model\\_logistic.py:940: ConvergenceWarning: lbfgs failed to converge (status=1):\n",
      "STOP: TOTAL NO. of ITERATIONS REACHED LIMIT.\n",
      "\n",
      "Increase the number of iterations (max_iter) or scale the data as shown in:\n",
      "    https://scikit-learn.org/stable/modules/preprocessing.html\n",
      "Please also refer to the documentation for alternative solver options:\n",
      "    https://scikit-learn.org/stable/modules/linear_model.html#logistic-regression\n",
      "  extra_warning_msg=_LOGISTIC_SOLVER_CONVERGENCE_MSG)\n",
      "c:\\users\\esettvx\\appdata\\local\\programs\\python\\python37\\lib\\site-packages\\sklearn\\linear_model\\_logistic.py:940: ConvergenceWarning: lbfgs failed to converge (status=1):\n",
      "STOP: TOTAL NO. of ITERATIONS REACHED LIMIT.\n",
      "\n",
      "Increase the number of iterations (max_iter) or scale the data as shown in:\n",
      "    https://scikit-learn.org/stable/modules/preprocessing.html\n",
      "Please also refer to the documentation for alternative solver options:\n",
      "    https://scikit-learn.org/stable/modules/linear_model.html#logistic-regression\n",
      "  extra_warning_msg=_LOGISTIC_SOLVER_CONVERGENCE_MSG)\n",
      "c:\\users\\esettvx\\appdata\\local\\programs\\python\\python37\\lib\\site-packages\\sklearn\\linear_model\\_logistic.py:940: ConvergenceWarning: lbfgs failed to converge (status=1):\n",
      "STOP: TOTAL NO. of ITERATIONS REACHED LIMIT.\n",
      "\n",
      "Increase the number of iterations (max_iter) or scale the data as shown in:\n",
      "    https://scikit-learn.org/stable/modules/preprocessing.html\n",
      "Please also refer to the documentation for alternative solver options:\n",
      "    https://scikit-learn.org/stable/modules/linear_model.html#logistic-regression\n",
      "  extra_warning_msg=_LOGISTIC_SOLVER_CONVERGENCE_MSG)\n",
      "c:\\users\\esettvx\\appdata\\local\\programs\\python\\python37\\lib\\site-packages\\sklearn\\linear_model\\_logistic.py:940: ConvergenceWarning: lbfgs failed to converge (status=1):\n",
      "STOP: TOTAL NO. of ITERATIONS REACHED LIMIT.\n",
      "\n",
      "Increase the number of iterations (max_iter) or scale the data as shown in:\n",
      "    https://scikit-learn.org/stable/modules/preprocessing.html\n",
      "Please also refer to the documentation for alternative solver options:\n",
      "    https://scikit-learn.org/stable/modules/linear_model.html#logistic-regression\n",
      "  extra_warning_msg=_LOGISTIC_SOLVER_CONVERGENCE_MSG)\n",
      "c:\\users\\esettvx\\appdata\\local\\programs\\python\\python37\\lib\\site-packages\\sklearn\\linear_model\\_logistic.py:940: ConvergenceWarning: lbfgs failed to converge (status=1):\n",
      "STOP: TOTAL NO. of ITERATIONS REACHED LIMIT.\n",
      "\n",
      "Increase the number of iterations (max_iter) or scale the data as shown in:\n",
      "    https://scikit-learn.org/stable/modules/preprocessing.html\n",
      "Please also refer to the documentation for alternative solver options:\n",
      "    https://scikit-learn.org/stable/modules/linear_model.html#logistic-regression\n",
      "  extra_warning_msg=_LOGISTIC_SOLVER_CONVERGENCE_MSG)\n",
      "c:\\users\\esettvx\\appdata\\local\\programs\\python\\python37\\lib\\site-packages\\sklearn\\linear_model\\_logistic.py:940: ConvergenceWarning: lbfgs failed to converge (status=1):\n",
      "STOP: TOTAL NO. of ITERATIONS REACHED LIMIT.\n",
      "\n",
      "Increase the number of iterations (max_iter) or scale the data as shown in:\n",
      "    https://scikit-learn.org/stable/modules/preprocessing.html\n",
      "Please also refer to the documentation for alternative solver options:\n",
      "    https://scikit-learn.org/stable/modules/linear_model.html#logistic-regression\n",
      "  extra_warning_msg=_LOGISTIC_SOLVER_CONVERGENCE_MSG)\n",
      "c:\\users\\esettvx\\appdata\\local\\programs\\python\\python37\\lib\\site-packages\\sklearn\\linear_model\\_logistic.py:940: ConvergenceWarning: lbfgs failed to converge (status=1):\n",
      "STOP: TOTAL NO. of ITERATIONS REACHED LIMIT.\n",
      "\n",
      "Increase the number of iterations (max_iter) or scale the data as shown in:\n",
      "    https://scikit-learn.org/stable/modules/preprocessing.html\n",
      "Please also refer to the documentation for alternative solver options:\n",
      "    https://scikit-learn.org/stable/modules/linear_model.html#logistic-regression\n",
      "  extra_warning_msg=_LOGISTIC_SOLVER_CONVERGENCE_MSG)\n",
      "c:\\users\\esettvx\\appdata\\local\\programs\\python\\python37\\lib\\site-packages\\sklearn\\linear_model\\_logistic.py:940: ConvergenceWarning: lbfgs failed to converge (status=1):\n",
      "STOP: TOTAL NO. of ITERATIONS REACHED LIMIT.\n",
      "\n",
      "Increase the number of iterations (max_iter) or scale the data as shown in:\n",
      "    https://scikit-learn.org/stable/modules/preprocessing.html\n",
      "Please also refer to the documentation for alternative solver options:\n",
      "    https://scikit-learn.org/stable/modules/linear_model.html#logistic-regression\n",
      "  extra_warning_msg=_LOGISTIC_SOLVER_CONVERGENCE_MSG)\n",
      "c:\\users\\esettvx\\appdata\\local\\programs\\python\\python37\\lib\\site-packages\\sklearn\\linear_model\\_logistic.py:940: ConvergenceWarning: lbfgs failed to converge (status=1):\n",
      "STOP: TOTAL NO. of ITERATIONS REACHED LIMIT.\n",
      "\n",
      "Increase the number of iterations (max_iter) or scale the data as shown in:\n",
      "    https://scikit-learn.org/stable/modules/preprocessing.html\n",
      "Please also refer to the documentation for alternative solver options:\n",
      "    https://scikit-learn.org/stable/modules/linear_model.html#logistic-regression\n",
      "  extra_warning_msg=_LOGISTIC_SOLVER_CONVERGENCE_MSG)\n",
      "c:\\users\\esettvx\\appdata\\local\\programs\\python\\python37\\lib\\site-packages\\sklearn\\linear_model\\_logistic.py:940: ConvergenceWarning: lbfgs failed to converge (status=1):\n",
      "STOP: TOTAL NO. of ITERATIONS REACHED LIMIT.\n",
      "\n",
      "Increase the number of iterations (max_iter) or scale the data as shown in:\n",
      "    https://scikit-learn.org/stable/modules/preprocessing.html\n",
      "Please also refer to the documentation for alternative solver options:\n",
      "    https://scikit-learn.org/stable/modules/linear_model.html#logistic-regression\n",
      "  extra_warning_msg=_LOGISTIC_SOLVER_CONVERGENCE_MSG)\n"
     ]
    },
    {
     "name": "stderr",
     "output_type": "stream",
     "text": [
      "c:\\users\\esettvx\\appdata\\local\\programs\\python\\python37\\lib\\site-packages\\sklearn\\linear_model\\_logistic.py:940: ConvergenceWarning: lbfgs failed to converge (status=1):\n",
      "STOP: TOTAL NO. of ITERATIONS REACHED LIMIT.\n",
      "\n",
      "Increase the number of iterations (max_iter) or scale the data as shown in:\n",
      "    https://scikit-learn.org/stable/modules/preprocessing.html\n",
      "Please also refer to the documentation for alternative solver options:\n",
      "    https://scikit-learn.org/stable/modules/linear_model.html#logistic-regression\n",
      "  extra_warning_msg=_LOGISTIC_SOLVER_CONVERGENCE_MSG)\n",
      "c:\\users\\esettvx\\appdata\\local\\programs\\python\\python37\\lib\\site-packages\\sklearn\\linear_model\\_logistic.py:940: ConvergenceWarning: lbfgs failed to converge (status=1):\n",
      "STOP: TOTAL NO. of ITERATIONS REACHED LIMIT.\n",
      "\n",
      "Increase the number of iterations (max_iter) or scale the data as shown in:\n",
      "    https://scikit-learn.org/stable/modules/preprocessing.html\n",
      "Please also refer to the documentation for alternative solver options:\n",
      "    https://scikit-learn.org/stable/modules/linear_model.html#logistic-regression\n",
      "  extra_warning_msg=_LOGISTIC_SOLVER_CONVERGENCE_MSG)\n",
      "c:\\users\\esettvx\\appdata\\local\\programs\\python\\python37\\lib\\site-packages\\sklearn\\linear_model\\_logistic.py:940: ConvergenceWarning: lbfgs failed to converge (status=1):\n",
      "STOP: TOTAL NO. of ITERATIONS REACHED LIMIT.\n",
      "\n",
      "Increase the number of iterations (max_iter) or scale the data as shown in:\n",
      "    https://scikit-learn.org/stable/modules/preprocessing.html\n",
      "Please also refer to the documentation for alternative solver options:\n",
      "    https://scikit-learn.org/stable/modules/linear_model.html#logistic-regression\n",
      "  extra_warning_msg=_LOGISTIC_SOLVER_CONVERGENCE_MSG)\n",
      "c:\\users\\esettvx\\appdata\\local\\programs\\python\\python37\\lib\\site-packages\\sklearn\\linear_model\\_logistic.py:940: ConvergenceWarning: lbfgs failed to converge (status=1):\n",
      "STOP: TOTAL NO. of ITERATIONS REACHED LIMIT.\n",
      "\n",
      "Increase the number of iterations (max_iter) or scale the data as shown in:\n",
      "    https://scikit-learn.org/stable/modules/preprocessing.html\n",
      "Please also refer to the documentation for alternative solver options:\n",
      "    https://scikit-learn.org/stable/modules/linear_model.html#logistic-regression\n",
      "  extra_warning_msg=_LOGISTIC_SOLVER_CONVERGENCE_MSG)\n",
      "c:\\users\\esettvx\\appdata\\local\\programs\\python\\python37\\lib\\site-packages\\sklearn\\linear_model\\_logistic.py:940: ConvergenceWarning: lbfgs failed to converge (status=1):\n",
      "STOP: TOTAL NO. of ITERATIONS REACHED LIMIT.\n",
      "\n",
      "Increase the number of iterations (max_iter) or scale the data as shown in:\n",
      "    https://scikit-learn.org/stable/modules/preprocessing.html\n",
      "Please also refer to the documentation for alternative solver options:\n",
      "    https://scikit-learn.org/stable/modules/linear_model.html#logistic-regression\n",
      "  extra_warning_msg=_LOGISTIC_SOLVER_CONVERGENCE_MSG)\n",
      "c:\\users\\esettvx\\appdata\\local\\programs\\python\\python37\\lib\\site-packages\\sklearn\\linear_model\\_logistic.py:940: ConvergenceWarning: lbfgs failed to converge (status=1):\n",
      "STOP: TOTAL NO. of ITERATIONS REACHED LIMIT.\n",
      "\n",
      "Increase the number of iterations (max_iter) or scale the data as shown in:\n",
      "    https://scikit-learn.org/stable/modules/preprocessing.html\n",
      "Please also refer to the documentation for alternative solver options:\n",
      "    https://scikit-learn.org/stable/modules/linear_model.html#logistic-regression\n",
      "  extra_warning_msg=_LOGISTIC_SOLVER_CONVERGENCE_MSG)\n",
      "c:\\users\\esettvx\\appdata\\local\\programs\\python\\python37\\lib\\site-packages\\sklearn\\linear_model\\_logistic.py:940: ConvergenceWarning: lbfgs failed to converge (status=1):\n",
      "STOP: TOTAL NO. of ITERATIONS REACHED LIMIT.\n",
      "\n",
      "Increase the number of iterations (max_iter) or scale the data as shown in:\n",
      "    https://scikit-learn.org/stable/modules/preprocessing.html\n",
      "Please also refer to the documentation for alternative solver options:\n",
      "    https://scikit-learn.org/stable/modules/linear_model.html#logistic-regression\n",
      "  extra_warning_msg=_LOGISTIC_SOLVER_CONVERGENCE_MSG)\n",
      "c:\\users\\esettvx\\appdata\\local\\programs\\python\\python37\\lib\\site-packages\\sklearn\\linear_model\\_logistic.py:940: ConvergenceWarning: lbfgs failed to converge (status=1):\n",
      "STOP: TOTAL NO. of ITERATIONS REACHED LIMIT.\n",
      "\n",
      "Increase the number of iterations (max_iter) or scale the data as shown in:\n",
      "    https://scikit-learn.org/stable/modules/preprocessing.html\n",
      "Please also refer to the documentation for alternative solver options:\n",
      "    https://scikit-learn.org/stable/modules/linear_model.html#logistic-regression\n",
      "  extra_warning_msg=_LOGISTIC_SOLVER_CONVERGENCE_MSG)\n",
      "c:\\users\\esettvx\\appdata\\local\\programs\\python\\python37\\lib\\site-packages\\sklearn\\linear_model\\_logistic.py:940: ConvergenceWarning: lbfgs failed to converge (status=1):\n",
      "STOP: TOTAL NO. of ITERATIONS REACHED LIMIT.\n",
      "\n",
      "Increase the number of iterations (max_iter) or scale the data as shown in:\n",
      "    https://scikit-learn.org/stable/modules/preprocessing.html\n",
      "Please also refer to the documentation for alternative solver options:\n",
      "    https://scikit-learn.org/stable/modules/linear_model.html#logistic-regression\n",
      "  extra_warning_msg=_LOGISTIC_SOLVER_CONVERGENCE_MSG)\n",
      "c:\\users\\esettvx\\appdata\\local\\programs\\python\\python37\\lib\\site-packages\\sklearn\\linear_model\\_logistic.py:940: ConvergenceWarning: lbfgs failed to converge (status=1):\n",
      "STOP: TOTAL NO. of ITERATIONS REACHED LIMIT.\n",
      "\n",
      "Increase the number of iterations (max_iter) or scale the data as shown in:\n",
      "    https://scikit-learn.org/stable/modules/preprocessing.html\n",
      "Please also refer to the documentation for alternative solver options:\n",
      "    https://scikit-learn.org/stable/modules/linear_model.html#logistic-regression\n",
      "  extra_warning_msg=_LOGISTIC_SOLVER_CONVERGENCE_MSG)\n",
      "c:\\users\\esettvx\\appdata\\local\\programs\\python\\python37\\lib\\site-packages\\sklearn\\linear_model\\_logistic.py:940: ConvergenceWarning: lbfgs failed to converge (status=1):\n",
      "STOP: TOTAL NO. of ITERATIONS REACHED LIMIT.\n",
      "\n",
      "Increase the number of iterations (max_iter) or scale the data as shown in:\n",
      "    https://scikit-learn.org/stable/modules/preprocessing.html\n",
      "Please also refer to the documentation for alternative solver options:\n",
      "    https://scikit-learn.org/stable/modules/linear_model.html#logistic-regression\n",
      "  extra_warning_msg=_LOGISTIC_SOLVER_CONVERGENCE_MSG)\n",
      "c:\\users\\esettvx\\appdata\\local\\programs\\python\\python37\\lib\\site-packages\\sklearn\\linear_model\\_logistic.py:940: ConvergenceWarning: lbfgs failed to converge (status=1):\n",
      "STOP: TOTAL NO. of ITERATIONS REACHED LIMIT.\n",
      "\n",
      "Increase the number of iterations (max_iter) or scale the data as shown in:\n",
      "    https://scikit-learn.org/stable/modules/preprocessing.html\n",
      "Please also refer to the documentation for alternative solver options:\n",
      "    https://scikit-learn.org/stable/modules/linear_model.html#logistic-regression\n",
      "  extra_warning_msg=_LOGISTIC_SOLVER_CONVERGENCE_MSG)\n",
      "c:\\users\\esettvx\\appdata\\local\\programs\\python\\python37\\lib\\site-packages\\sklearn\\linear_model\\_logistic.py:940: ConvergenceWarning: lbfgs failed to converge (status=1):\n",
      "STOP: TOTAL NO. of ITERATIONS REACHED LIMIT.\n",
      "\n",
      "Increase the number of iterations (max_iter) or scale the data as shown in:\n",
      "    https://scikit-learn.org/stable/modules/preprocessing.html\n",
      "Please also refer to the documentation for alternative solver options:\n",
      "    https://scikit-learn.org/stable/modules/linear_model.html#logistic-regression\n",
      "  extra_warning_msg=_LOGISTIC_SOLVER_CONVERGENCE_MSG)\n",
      "c:\\users\\esettvx\\appdata\\local\\programs\\python\\python37\\lib\\site-packages\\sklearn\\linear_model\\_logistic.py:940: ConvergenceWarning: lbfgs failed to converge (status=1):\n",
      "STOP: TOTAL NO. of ITERATIONS REACHED LIMIT.\n",
      "\n",
      "Increase the number of iterations (max_iter) or scale the data as shown in:\n",
      "    https://scikit-learn.org/stable/modules/preprocessing.html\n",
      "Please also refer to the documentation for alternative solver options:\n",
      "    https://scikit-learn.org/stable/modules/linear_model.html#logistic-regression\n",
      "  extra_warning_msg=_LOGISTIC_SOLVER_CONVERGENCE_MSG)\n",
      "c:\\users\\esettvx\\appdata\\local\\programs\\python\\python37\\lib\\site-packages\\sklearn\\linear_model\\_logistic.py:940: ConvergenceWarning: lbfgs failed to converge (status=1):\n",
      "STOP: TOTAL NO. of ITERATIONS REACHED LIMIT.\n",
      "\n",
      "Increase the number of iterations (max_iter) or scale the data as shown in:\n",
      "    https://scikit-learn.org/stable/modules/preprocessing.html\n",
      "Please also refer to the documentation for alternative solver options:\n",
      "    https://scikit-learn.org/stable/modules/linear_model.html#logistic-regression\n",
      "  extra_warning_msg=_LOGISTIC_SOLVER_CONVERGENCE_MSG)\n",
      "c:\\users\\esettvx\\appdata\\local\\programs\\python\\python37\\lib\\site-packages\\sklearn\\linear_model\\_logistic.py:940: ConvergenceWarning: lbfgs failed to converge (status=1):\n",
      "STOP: TOTAL NO. of ITERATIONS REACHED LIMIT.\n",
      "\n",
      "Increase the number of iterations (max_iter) or scale the data as shown in:\n",
      "    https://scikit-learn.org/stable/modules/preprocessing.html\n",
      "Please also refer to the documentation for alternative solver options:\n",
      "    https://scikit-learn.org/stable/modules/linear_model.html#logistic-regression\n",
      "  extra_warning_msg=_LOGISTIC_SOLVER_CONVERGENCE_MSG)\n"
     ]
    },
    {
     "name": "stderr",
     "output_type": "stream",
     "text": [
      "c:\\users\\esettvx\\appdata\\local\\programs\\python\\python37\\lib\\site-packages\\sklearn\\linear_model\\_logistic.py:940: ConvergenceWarning: lbfgs failed to converge (status=1):\n",
      "STOP: TOTAL NO. of ITERATIONS REACHED LIMIT.\n",
      "\n",
      "Increase the number of iterations (max_iter) or scale the data as shown in:\n",
      "    https://scikit-learn.org/stable/modules/preprocessing.html\n",
      "Please also refer to the documentation for alternative solver options:\n",
      "    https://scikit-learn.org/stable/modules/linear_model.html#logistic-regression\n",
      "  extra_warning_msg=_LOGISTIC_SOLVER_CONVERGENCE_MSG)\n",
      "c:\\users\\esettvx\\appdata\\local\\programs\\python\\python37\\lib\\site-packages\\sklearn\\linear_model\\_logistic.py:940: ConvergenceWarning: lbfgs failed to converge (status=1):\n",
      "STOP: TOTAL NO. of ITERATIONS REACHED LIMIT.\n",
      "\n",
      "Increase the number of iterations (max_iter) or scale the data as shown in:\n",
      "    https://scikit-learn.org/stable/modules/preprocessing.html\n",
      "Please also refer to the documentation for alternative solver options:\n",
      "    https://scikit-learn.org/stable/modules/linear_model.html#logistic-regression\n",
      "  extra_warning_msg=_LOGISTIC_SOLVER_CONVERGENCE_MSG)\n",
      "c:\\users\\esettvx\\appdata\\local\\programs\\python\\python37\\lib\\site-packages\\sklearn\\linear_model\\_logistic.py:940: ConvergenceWarning: lbfgs failed to converge (status=1):\n",
      "STOP: TOTAL NO. of ITERATIONS REACHED LIMIT.\n",
      "\n",
      "Increase the number of iterations (max_iter) or scale the data as shown in:\n",
      "    https://scikit-learn.org/stable/modules/preprocessing.html\n",
      "Please also refer to the documentation for alternative solver options:\n",
      "    https://scikit-learn.org/stable/modules/linear_model.html#logistic-regression\n",
      "  extra_warning_msg=_LOGISTIC_SOLVER_CONVERGENCE_MSG)\n",
      "c:\\users\\esettvx\\appdata\\local\\programs\\python\\python37\\lib\\site-packages\\sklearn\\linear_model\\_logistic.py:940: ConvergenceWarning: lbfgs failed to converge (status=1):\n",
      "STOP: TOTAL NO. of ITERATIONS REACHED LIMIT.\n",
      "\n",
      "Increase the number of iterations (max_iter) or scale the data as shown in:\n",
      "    https://scikit-learn.org/stable/modules/preprocessing.html\n",
      "Please also refer to the documentation for alternative solver options:\n",
      "    https://scikit-learn.org/stable/modules/linear_model.html#logistic-regression\n",
      "  extra_warning_msg=_LOGISTIC_SOLVER_CONVERGENCE_MSG)\n",
      "c:\\users\\esettvx\\appdata\\local\\programs\\python\\python37\\lib\\site-packages\\sklearn\\linear_model\\_logistic.py:940: ConvergenceWarning: lbfgs failed to converge (status=1):\n",
      "STOP: TOTAL NO. of ITERATIONS REACHED LIMIT.\n",
      "\n",
      "Increase the number of iterations (max_iter) or scale the data as shown in:\n",
      "    https://scikit-learn.org/stable/modules/preprocessing.html\n",
      "Please also refer to the documentation for alternative solver options:\n",
      "    https://scikit-learn.org/stable/modules/linear_model.html#logistic-regression\n",
      "  extra_warning_msg=_LOGISTIC_SOLVER_CONVERGENCE_MSG)\n",
      "c:\\users\\esettvx\\appdata\\local\\programs\\python\\python37\\lib\\site-packages\\sklearn\\linear_model\\_logistic.py:940: ConvergenceWarning: lbfgs failed to converge (status=1):\n",
      "STOP: TOTAL NO. of ITERATIONS REACHED LIMIT.\n",
      "\n",
      "Increase the number of iterations (max_iter) or scale the data as shown in:\n",
      "    https://scikit-learn.org/stable/modules/preprocessing.html\n",
      "Please also refer to the documentation for alternative solver options:\n",
      "    https://scikit-learn.org/stable/modules/linear_model.html#logistic-regression\n",
      "  extra_warning_msg=_LOGISTIC_SOLVER_CONVERGENCE_MSG)\n",
      "c:\\users\\esettvx\\appdata\\local\\programs\\python\\python37\\lib\\site-packages\\sklearn\\linear_model\\_logistic.py:940: ConvergenceWarning: lbfgs failed to converge (status=1):\n",
      "STOP: TOTAL NO. of ITERATIONS REACHED LIMIT.\n",
      "\n",
      "Increase the number of iterations (max_iter) or scale the data as shown in:\n",
      "    https://scikit-learn.org/stable/modules/preprocessing.html\n",
      "Please also refer to the documentation for alternative solver options:\n",
      "    https://scikit-learn.org/stable/modules/linear_model.html#logistic-regression\n",
      "  extra_warning_msg=_LOGISTIC_SOLVER_CONVERGENCE_MSG)\n",
      "c:\\users\\esettvx\\appdata\\local\\programs\\python\\python37\\lib\\site-packages\\sklearn\\linear_model\\_logistic.py:940: ConvergenceWarning: lbfgs failed to converge (status=1):\n",
      "STOP: TOTAL NO. of ITERATIONS REACHED LIMIT.\n",
      "\n",
      "Increase the number of iterations (max_iter) or scale the data as shown in:\n",
      "    https://scikit-learn.org/stable/modules/preprocessing.html\n",
      "Please also refer to the documentation for alternative solver options:\n",
      "    https://scikit-learn.org/stable/modules/linear_model.html#logistic-regression\n",
      "  extra_warning_msg=_LOGISTIC_SOLVER_CONVERGENCE_MSG)\n",
      "c:\\users\\esettvx\\appdata\\local\\programs\\python\\python37\\lib\\site-packages\\sklearn\\linear_model\\_logistic.py:940: ConvergenceWarning: lbfgs failed to converge (status=1):\n",
      "STOP: TOTAL NO. of ITERATIONS REACHED LIMIT.\n",
      "\n",
      "Increase the number of iterations (max_iter) or scale the data as shown in:\n",
      "    https://scikit-learn.org/stable/modules/preprocessing.html\n",
      "Please also refer to the documentation for alternative solver options:\n",
      "    https://scikit-learn.org/stable/modules/linear_model.html#logistic-regression\n",
      "  extra_warning_msg=_LOGISTIC_SOLVER_CONVERGENCE_MSG)\n",
      "c:\\users\\esettvx\\appdata\\local\\programs\\python\\python37\\lib\\site-packages\\sklearn\\linear_model\\_logistic.py:940: ConvergenceWarning: lbfgs failed to converge (status=1):\n",
      "STOP: TOTAL NO. of ITERATIONS REACHED LIMIT.\n",
      "\n",
      "Increase the number of iterations (max_iter) or scale the data as shown in:\n",
      "    https://scikit-learn.org/stable/modules/preprocessing.html\n",
      "Please also refer to the documentation for alternative solver options:\n",
      "    https://scikit-learn.org/stable/modules/linear_model.html#logistic-regression\n",
      "  extra_warning_msg=_LOGISTIC_SOLVER_CONVERGENCE_MSG)\n",
      "c:\\users\\esettvx\\appdata\\local\\programs\\python\\python37\\lib\\site-packages\\sklearn\\linear_model\\_logistic.py:940: ConvergenceWarning: lbfgs failed to converge (status=1):\n",
      "STOP: TOTAL NO. of ITERATIONS REACHED LIMIT.\n",
      "\n",
      "Increase the number of iterations (max_iter) or scale the data as shown in:\n",
      "    https://scikit-learn.org/stable/modules/preprocessing.html\n",
      "Please also refer to the documentation for alternative solver options:\n",
      "    https://scikit-learn.org/stable/modules/linear_model.html#logistic-regression\n",
      "  extra_warning_msg=_LOGISTIC_SOLVER_CONVERGENCE_MSG)\n"
     ]
    },
    {
     "name": "stdout",
     "output_type": "stream",
     "text": [
      "[False False False False False False False False False False False False\n",
      " False False False  True False False False False False False False False\n",
      " False False False  True False False False False False False False False\n",
      " False False False False False False False False False False False False\n",
      " False False False False False False False False False False False False\n",
      "  True False False False False False False False False False False False\n",
      " False False False False False False  True False False False False  True\n",
      "  True False False False False False False False False False  True False\n",
      " False False False False False False False  True False False False False\n",
      "  True False False False False False False False False False False False\n",
      " False  True False False False False False False False False False False\n",
      " False False False False False False False False False False False False\n",
      " False False False False False False False False False False False False\n",
      " False False False False False False False False False False False False\n",
      " False]\n",
      "[ 60  99  45 137  93 136  44 140  91  18 114 156 129  70  74   1  47 130\n",
      " 110  83  28  59  11  72  52  82  50   1 118  12  81 124  17  75 102 120\n",
      " 113  77 106  73 133 154  53  25  89  24 142  16 141 139  23 108 153  43\n",
      "  56  58  57  87   4 104   1  71  62  21  66  88  15 147 149 111 131 100\n",
      " 103 126 143 117   3 159   1  14  37 125  30   1   1 135   7  29  92 128\n",
      " 150  35  13 148   1  69   8  26  42  10 116  41 158   1  39  67  78 127\n",
      "   1  65 146  27 144  76  46 155  20  19  54  38 138   1  40   9 112  97\n",
      " 123  49  94 152  31  51 115  84  98   6  36   2 109  48  85 105 151  32\n",
      " 134  95 101 119   5  22  80  55  79  96  33  61 145 122  34  63 160  86\n",
      " 121  90 157  64  68 107 132]\n"
     ]
    }
   ],
   "source": [
    "from sklearn import datasets\n",
    "from sklearn.feature_selection import RFE\n",
    "from sklearn.linear_model import LogisticRegression\n",
    "# load the iris datasets\n",
    "# create a base classifier used to evaluate a subset of attributes\n",
    "model = LogisticRegression()\n",
    "# create the RFE model and select 3 attributes\n",
    "rfe = RFE(model, 10)\n",
    "rfe = rfe.fit(X, y)\n",
    "# summarize the selection of the attributes\n",
    "print(rfe.support_)\n",
    "print(rfe.ranking_)"
   ]
  },
  {
   "cell_type": "code",
   "execution_count": 28,
   "metadata": {},
   "outputs": [],
   "source": [
    "# 8, 18, 20, 23,24,27, 30, 34, 42, 50, 62, 75, 78, 87, 92, 100, 106, 113, 127, 153, 157"
   ]
  },
  {
   "cell_type": "code",
   "execution_count": 90,
   "metadata": {},
   "outputs": [
    {
     "name": "stderr",
     "output_type": "stream",
     "text": [
      "c:\\users\\esettvx\\appdata\\local\\programs\\python\\python37\\lib\\site-packages\\sklearn\\model_selection\\_split.py:667: UserWarning: The least populated class in y has only 2 members, which is less than n_splits=5.\n",
      "  % (min_groups, self.n_splits)), UserWarning)\n"
     ]
    },
    {
     "name": "stdout",
     "output_type": "stream",
     "text": [
      "Accuracy for XGBoost Classifier :  0.7342185903983657\n",
      "Wall time: 5.79 s\n"
     ]
    }
   ],
   "source": [
    "%%time\n",
    "\n",
    "import xgboost as xgb\n",
    "\n",
    "pl_xgb = Pipeline(steps=\n",
    "                  [('xgboost', xgb.XGBClassifier(objective='multi:softmax'))])\n",
    "scores = cross_val_score(pl_xgb, X, y, cv=5)\n",
    "print('Accuracy for XGBoost Classifier : ', scores.mean())"
   ]
  },
  {
   "cell_type": "code",
   "execution_count": null,
   "metadata": {},
   "outputs": [],
   "source": []
  }
 ],
 "metadata": {
  "kernelspec": {
   "display_name": "Python 3",
   "language": "python",
   "name": "python3"
  },
  "language_info": {
   "codemirror_mode": {
    "name": "ipython",
    "version": 3
   },
   "file_extension": ".py",
   "mimetype": "text/x-python",
   "name": "python",
   "nbconvert_exporter": "python",
   "pygments_lexer": "ipython3",
   "version": "3.7.6"
  }
 },
 "nbformat": 4,
 "nbformat_minor": 4
}
